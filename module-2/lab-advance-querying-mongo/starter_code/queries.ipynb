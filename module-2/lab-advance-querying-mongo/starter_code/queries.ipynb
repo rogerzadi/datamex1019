{
 "cells": [
  {
   "cell_type": "markdown",
   "metadata": {},
   "source": [
    "![Ironhack Logo](https://i.imgur.com/1QgrNNw.png)"
   ]
  },
  {
   "cell_type": "code",
   "execution_count": 74,
   "metadata": {},
   "outputs": [],
   "source": [
    "from pymongo import MongoClient\n",
    "client=MongoClient(\"mongodb://localhost:27017/\")\n",
    "db=client.companies\n",
    "from pandas.io.json import json_normalize\n",
    "import pandas as pd"
   ]
  },
  {
   "cell_type": "markdown",
   "metadata": {},
   "source": [
    "# Answers\n",
    "### 1. All the companies that it's name match 'Babelgum'. Retrieve only their `name` field."
   ]
  },
  {
   "cell_type": "code",
   "execution_count": 2,
   "metadata": {},
   "outputs": [
    {
     "data": {
      "text/plain": [
       "[{'_id': ObjectId('52cdef7c4bab8bd675297da0'), 'name': 'Babelgum'}]"
      ]
     },
     "execution_count": 2,
     "metadata": {},
     "output_type": "execute_result"
    }
   ],
   "source": [
    "list(db.companies.find({\"name\":\"Babelgum\"},{\"name\"}))"
   ]
  },
  {
   "cell_type": "markdown",
   "metadata": {},
   "source": [
    "### 2. All the companies that have more than 5000 employees. Limit the search to 20 companies and sort them by **number of employees**."
   ]
  },
  {
   "cell_type": "code",
   "execution_count": null,
   "metadata": {
    "scrolled": true
   },
   "outputs": [],
   "source": [
    "list(db.companies.find({'number_of_employees':{'$gt':5000}},{'name':1, 'number_of_employees':1, '_id':0}).limit(20).sort('number_of_employees',-1))"
   ]
  },
  {
   "cell_type": "code",
   "execution_count": null,
   "metadata": {},
   "outputs": [],
   "source": [
    "list(db.companies.find({'name': {\"$exists\" : True}},{'category_code':1, '_id':0}))"
   ]
  },
  {
   "cell_type": "markdown",
   "metadata": {},
   "source": [
    "### 3. All the companies founded between 2000 and 2005, both years included. Retrieve only the `name` and `founded_year` fileds."
   ]
  },
  {
   "cell_type": "code",
   "execution_count": null,
   "metadata": {},
   "outputs": [],
   "source": [
    "list(db.companies.find({'founded_year':{'$gt':2000, '$lt':2005}},{'name':1, 'founded_year':1, '_id':0}))"
   ]
  },
  {
   "cell_type": "markdown",
   "metadata": {},
   "source": [
    "### 4. All the companies that had a Valuation Amount of more than 100.000.000 and have been founded before 2010. Retrieve only the `name` and `ipo` fields."
   ]
  },
  {
   "cell_type": "code",
   "execution_count": null,
   "metadata": {},
   "outputs": [],
   "source": [
    "list(db.companies.find({'ipo ':{'$gt':1000}},{'name':1, 'ipo':1, '_id':0}))"
   ]
  },
  {
   "cell_type": "markdown",
   "metadata": {},
   "source": [
    "### 5. All the companies that have less than 1000 employees and have been founded before 2005. Order them by the number of employees and limit the search to 10 companies."
   ]
  },
  {
   "cell_type": "code",
   "execution_count": null,
   "metadata": {},
   "outputs": [],
   "source": [
    "list(db.companies.find({'number_of_employees':{'$gt':1000},'founded_year':{'$lt':2005}},{'name':1, 'number_of_employees':1, 'founded_year':1, '_id':0}).limit(10).sort('number_of_employees'))"
   ]
  },
  {
   "cell_type": "markdown",
   "metadata": {},
   "source": [
    "### 6. All the companies that don't include the `partners` field."
   ]
  },
  {
   "cell_type": "code",
   "execution_count": null,
   "metadata": {},
   "outputs": [],
   "source": [
    "list(db.companies.find({'partners':{\"$exists\" : False}},{'name':1, '_id':0}))"
   ]
  },
  {
   "cell_type": "markdown",
   "metadata": {},
   "source": [
    "### 7. All the companies that have a null type of value on the `category_code` field."
   ]
  },
  {
   "cell_type": "code",
   "execution_count": null,
   "metadata": {},
   "outputs": [],
   "source": [
    "list(db.companies.find({'category_code': \"Null\" },{'name':1, '_id':0}))"
   ]
  },
  {
   "cell_type": "markdown",
   "metadata": {},
   "source": [
    "### 8. All the companies that have at least 100 employees but less than 1000. Retrieve only the `name` and `number of employees` fields."
   ]
  },
  {
   "cell_type": "code",
   "execution_count": null,
   "metadata": {},
   "outputs": [],
   "source": [
    "list(db.companies.find({'number_of_employees':{'$gte':100,'$lt':1000}},{'name':1, 'number_of_employees':1, '_id':0}))"
   ]
  },
  {
   "cell_type": "markdown",
   "metadata": {},
   "source": [
    "### 9. Order all the companies by their IPO price descendently."
   ]
  },
  {
   "cell_type": "code",
   "execution_count": null,
   "metadata": {},
   "outputs": [],
   "source": [
    "\n"
   ]
  },
  {
   "cell_type": "markdown",
   "metadata": {},
   "source": [
    "### 10. Retrieve the 10 companies with more employees, order by the `number of employees`"
   ]
  },
  {
   "cell_type": "code",
   "execution_count": null,
   "metadata": {},
   "outputs": [],
   "source": [
    "list(db.companies.find({'number_of_employees':{'$gte':100}},{'name':1, 'number_of_employees':1, '_id':0}).limit(10).sort('number_of_employees',-1))"
   ]
  },
  {
   "cell_type": "markdown",
   "metadata": {},
   "source": [
    "### 11. All the companies founded on the second semester of the year. Limit your search to 1000 companies."
   ]
  },
  {
   "cell_type": "code",
   "execution_count": null,
   "metadata": {},
   "outputs": [],
   "source": [
    "list(db.companies.find({'founded_month':{'$gte':6}},{'name':1,'founded_month':1, '_id':0}).limit(1000))"
   ]
  },
  {
   "cell_type": "markdown",
   "metadata": {},
   "source": [
    "### 12. All the companies that have been 'deadpooled' after the third year."
   ]
  },
  {
   "cell_type": "code",
   "execution_count": null,
   "metadata": {},
   "outputs": [],
   "source": [
    "list(db.companies.find({'deadpooled_year':{'$gt':3}},{'name':1, '_id':0}))"
   ]
  },
  {
   "cell_type": "markdown",
   "metadata": {},
   "source": [
    "### 13. All the companies founded before 2000 that have and acquisition amount of more than 10.000.000"
   ]
  },
  {
   "cell_type": "code",
   "execution_count": null,
   "metadata": {},
   "outputs": [],
   "source": [
    "list(db.companies.find({'founded_year':{'$lt':2000},'acquisition.price_amount':{'$gt':10000000}},{'name':1,'acquisition.price_amount':1,'_id':0}))\n"
   ]
  },
  {
   "cell_type": "markdown",
   "metadata": {},
   "source": [
    "### 14. All the companies that have been acquired after 2015, order by the acquisition amount, and retrieve only their `name` and `acquisiton` field."
   ]
  },
  {
   "cell_type": "code",
   "execution_count": null,
   "metadata": {},
   "outputs": [],
   "source": [
    " list(db.companies.find({'acquisition.acquired_year':{'$lt':2005}},{'name':1,'acquisition.price_amount':1,'_id':0}).sort('acquisition.price_amount,-1'))"
   ]
  },
  {
   "cell_type": "markdown",
   "metadata": {},
   "source": [
    "### 15. Order the companies by their `founded year`, retrieving only their `name` and `founded year`."
   ]
  },
  {
   "cell_type": "code",
   "execution_count": null,
   "metadata": {},
   "outputs": [],
   "source": [
    "list(db.companies.find({'founded_year':{'$gt':0}},{'name':1,'founded_year':1,'_id':0}).sort('founded_year').limit(1000))"
   ]
  },
  {
   "cell_type": "markdown",
   "metadata": {},
   "source": [
    "### 16. All the companies that have been founded on the first seven days of the month, including the seventh. Sort them by their `aquisition price` descendently. Limit the search to 10 documents."
   ]
  },
  {
   "cell_type": "code",
   "execution_count": 49,
   "metadata": {},
   "outputs": [
    {
     "ename": "SyntaxError",
     "evalue": "EOL while scanning string literal (<ipython-input-49-93d3b49be515>, line 1)",
     "output_type": "error",
     "traceback": [
      "\u001b[1;36m  File \u001b[1;32m\"<ipython-input-49-93d3b49be515>\"\u001b[1;36m, line \u001b[1;32m1\u001b[0m\n\u001b[1;33m    query=\"companies.find({'category_code':'%s','number_of_employees':{'$lt':100},'founded_year':{'$gte':2013-5}}\u001b[0m\n\u001b[1;37m                                                                                                                 ^\u001b[0m\n\u001b[1;31mSyntaxError\u001b[0m\u001b[1;31m:\u001b[0m EOL while scanning string literal\n"
     ]
    }
   ],
   "source": [
    "\n",
    "query=companies.find({'category_code':tres,'number_of_employees':{'$lt':100},'founded_year':{'$gte':2013-5}}\n",
    "                           ,{'name':1, 'category_code ':1, '_id':0}\n",
    "    \n",
    "                     \n",
    "print(query)"
   ]
  },
  {
   "cell_type": "code",
   "execution_count": 153,
   "metadata": {},
   "outputs": [
    {
     "data": {
      "text/html": [
       "<div>\n",
       "<style scoped>\n",
       "    .dataframe tbody tr th:only-of-type {\n",
       "        vertical-align: middle;\n",
       "    }\n",
       "\n",
       "    .dataframe tbody tr th {\n",
       "        vertical-align: top;\n",
       "    }\n",
       "\n",
       "    .dataframe thead th {\n",
       "        text-align: right;\n",
       "    }\n",
       "</style>\n",
       "<table border=\"1\" class=\"dataframe\">\n",
       "  <thead>\n",
       "    <tr style=\"text-align: right;\">\n",
       "      <th></th>\n",
       "      <th>name</th>\n",
       "      <th>offices</th>\n",
       "    </tr>\n",
       "  </thead>\n",
       "  <tbody>\n",
       "    <tr>\n",
       "      <th>0</th>\n",
       "      <td>headr</td>\n",
       "      <td>[{'latitude': 52.5013449, 'longitude': 13.4109...</td>\n",
       "    </tr>\n",
       "    <tr>\n",
       "      <th>1</th>\n",
       "      <td>Fixya</td>\n",
       "      <td>[{'latitude': 37.566879, 'longitude': -122.323...</td>\n",
       "    </tr>\n",
       "    <tr>\n",
       "      <th>2</th>\n",
       "      <td>First30Days</td>\n",
       "      <td>[{'latitude': 38.257035, 'longitude': -85.7173...</td>\n",
       "    </tr>\n",
       "    <tr>\n",
       "      <th>3</th>\n",
       "      <td>PokerPlayersSocialNetwork</td>\n",
       "      <td>[{'latitude': 47.704875, 'longitude': -122.187...</td>\n",
       "    </tr>\n",
       "    <tr>\n",
       "      <th>4</th>\n",
       "      <td>thatsmymouse</td>\n",
       "      <td>[{'latitude': -34.054416, 'longitude': 151.039...</td>\n",
       "    </tr>\n",
       "    <tr>\n",
       "      <th>5</th>\n",
       "      <td>Tvosz</td>\n",
       "      <td>[{'latitude': None, 'longitude': None}]</td>\n",
       "    </tr>\n",
       "    <tr>\n",
       "      <th>6</th>\n",
       "      <td>Unknown Vector</td>\n",
       "      <td>[{'latitude': 37.790032, 'longitude': -122.404...</td>\n",
       "    </tr>\n",
       "  </tbody>\n",
       "</table>\n",
       "</div>"
      ],
      "text/plain": [
       "                        name  \\\n",
       "0                      headr   \n",
       "1                      Fixya   \n",
       "2                First30Days   \n",
       "3  PokerPlayersSocialNetwork   \n",
       "4               thatsmymouse   \n",
       "5                      Tvosz   \n",
       "6             Unknown Vector   \n",
       "\n",
       "                                             offices  \n",
       "0  [{'latitude': 52.5013449, 'longitude': 13.4109...  \n",
       "1  [{'latitude': 37.566879, 'longitude': -122.323...  \n",
       "2  [{'latitude': 38.257035, 'longitude': -85.7173...  \n",
       "3  [{'latitude': 47.704875, 'longitude': -122.187...  \n",
       "4  [{'latitude': -34.054416, 'longitude': 151.039...  \n",
       "5            [{'latitude': None, 'longitude': None}]  \n",
       "6  [{'latitude': 37.790032, 'longitude': -122.404...  "
      ]
     },
     "execution_count": 153,
     "metadata": {},
     "output_type": "execute_result"
    }
   ],
   "source": [
    "rol=\"web\"\n",
    "año=5\n",
    "emple=100\n",
    "lista=pd.DataFrame(db.companies.find({'category_code':rol,'number_of_employees':{'$lt':emple},'founded_year':{'$gte':2013-año},'offices.longitude':{\"$exists\":True}}\n",
    "                           ,{\"name\":1,'offices.longitude':1,'offices.latitude':1, '_id':0}))\n",
    "x=lista.offices[0][0][\"latitude\"]\n",
    "y=lista.offices[0][0][\"longitude\"]\n",
    "lista.head(7)\n"
   ]
  },
  {
   "cell_type": "code",
   "execution_count": 156,
   "metadata": {},
   "outputs": [
    {
     "data": {
      "text/plain": [
       "[13.4109071,\n",
       " -122.323895,\n",
       " -85.717393,\n",
       " -122.187925,\n",
       " 151.039775,\n",
       " -122.404488,\n",
       " 3.165225,\n",
       " -74.370313,\n",
       " -113.5291728,\n",
       " 24.704663,\n",
       " -71.683502,\n",
       " -111.93315,\n",
       " 104.195397,\n",
       " -3.435973,\n",
       " -77.12016,\n",
       " -122.4042586,\n",
       " -71.13129,\n",
       " -118.495981,\n",
       " 77.578768,\n",
       " -73.992706,\n",
       " 10.738741,\n",
       " -122.155678,\n",
       " -122.164925,\n",
       " -74.125176,\n",
       " -119.306607,\n",
       " -83.731129,\n",
       " -1.6629087,\n",
       " -122.457454,\n",
       " -73.980306,\n",
       " -78.922055,\n",
       " -78.9206,\n",
       " -121.262316,\n",
       " -82.391633,\n",
       " 174.72663,\n",
       " 74.84256,\n",
       " -122.401537,\n",
       " -81.473725,\n",
       " -122.416804,\n",
       " -75.024335,\n",
       " 6.9280123,\n",
       " -73.963158,\n",
       " -8.224454,\n",
       " 78.486671,\n",
       " 9.966419,\n",
       " -79.824384,\n",
       " -0.150417,\n",
       " -95.390758,\n",
       " -78.643414,\n",
       " -79.266246,\n",
       " -0.126236,\n",
       " 2.339843,\n",
       " 0.257568,\n",
       " -83.14483,\n",
       " -122.437262,\n",
       " -79.603622,\n",
       " -97.763987,\n",
       " -87.66831,\n",
       " -0.469586,\n",
       " -0.126236,\n",
       " -95.712891,\n",
       " -71.24762,\n",
       " -74.007072,\n",
       " -74.294395,\n",
       " -115.246776,\n",
       " -121.267626,\n",
       " -118.456709,\n",
       " -46.638818,\n",
       " -105.278025,\n",
       " -122.1612868,\n",
       " 151.208584,\n",
       " -1.611882,\n",
       " -77.0551909,\n",
       " -1.9820361,\n",
       " -122.419204,\n",
       " -80.082474,\n",
       " -105.20545,\n",
       " -122.398379,\n",
       " -84.389663,\n",
       " -118.493105,\n",
       " -66.09705,\n",
       " 1.996567,\n",
       " -0.175393,\n",
       " -122.420903,\n",
       " 174.774682,\n",
       " -122.267654,\n",
       " -97.069403,\n",
       " -86.198436,\n",
       " -86.846342,\n",
       " 5.148893,\n",
       " -0.4274181,\n",
       " -123.060221,\n",
       " -94.594928,\n",
       " -75.196171,\n",
       " 6.182658,\n",
       " -122.419204,\n",
       " -122.1490582,\n",
       " -1.574948,\n",
       " 13.465981,\n",
       " -84.334042,\n",
       " -71.356845,\n",
       " -0.24233,\n",
       " -106.6634565,\n",
       " -73.990024,\n",
       " -119.8084281,\n",
       " -117.11359,\n",
       " -79.411513,\n",
       " 2.3249952,\n",
       " -2.26681,\n",
       " 4.8926529,\n",
       " -122.133621,\n",
       " 16.357786,\n",
       " -111.8566,\n",
       " -88.294854,\n",
       " -122.403223,\n",
       " -75.163808,\n",
       " 77.594376,\n",
       " -73.986951,\n",
       " -93.733354,\n",
       " -121.987122,\n",
       " -73.950677,\n",
       " -80.83722,\n",
       " -122.055177,\n",
       " 103.861929,\n",
       " -122.3999719,\n",
       " -80.29413,\n",
       " -97.77512,\n",
       " -88.239237,\n",
       " 151.207114,\n",
       " -73.999675,\n",
       " 13.414913,\n",
       " -73.990024,\n",
       " -119.8084281,\n",
       " -117.11359,\n",
       " -79.411513,\n",
       " 2.3249952,\n",
       " -2.26681,\n",
       " 4.8926529,\n",
       " -122.133621,\n",
       " 16.357786,\n",
       " -111.8566,\n",
       " -88.294854,\n",
       " -122.403223,\n",
       " -75.163808,\n",
       " 77.594376,\n",
       " -73.986951,\n",
       " -93.733354,\n",
       " -121.987122,\n",
       " -73.950677,\n",
       " -80.83722,\n",
       " -122.055177,\n",
       " 103.861929,\n",
       " -122.3999719,\n",
       " -80.29413,\n",
       " -97.77512,\n",
       " -88.239237,\n",
       " 151.207114,\n",
       " -73.999675,\n",
       " 13.414913,\n",
       " 7.066468,\n",
       " 4.463134,\n",
       " -122.3277578,\n",
       " -81.657707,\n",
       " -2.1334772,\n",
       " -122.270913,\n",
       " -121.803522,\n",
       " -73.974187,\n",
       " -122.159291,\n",
       " -79.375173,\n",
       " -71.4094864,\n",
       " -97.745209,\n",
       " -106.520846,\n",
       " 18.042057,\n",
       " -122.34229,\n",
       " 2.308019,\n",
       " -79.394325,\n",
       " -117.8771193,\n",
       " -122.682376,\n",
       " 19.026118,\n",
       " -79.668813,\n",
       " -82.55582,\n",
       " -1.611882,\n",
       " -86.0547016,\n",
       " -79.44182,\n",
       " -9.135517,\n",
       " -73.951865,\n",
       " -3.020908,\n",
       " -93.324191,\n",
       " 2.3603689,\n",
       " -121.880958,\n",
       " -74.001724,\n",
       " -73.987764,\n",
       " -122.394958,\n",
       " -118.295117,\n",
       " -122.6883052,\n",
       " -121.958687,\n",
       " -123.138565,\n",
       " 151.1936039,\n",
       " -1.6806152,\n",
       " 4.401195,\n",
       " -82.490137,\n",
       " -121.481826,\n",
       " -2.2439492,\n",
       " 4.6102492,\n",
       " -111.967798,\n",
       " -83.674786,\n",
       " -115.242203,\n",
       " -122.268354,\n",
       " 2.3509871,\n",
       " -95.8685249,\n",
       " -2.6136797,\n",
       " -84.377834,\n",
       " -73.986951,\n",
       " 103.842646,\n",
       " -121.9909454,\n",
       " -76.614442,\n",
       " 4.700737,\n",
       " -96.797111,\n",
       " -96.0172896,\n",
       " -73.989613,\n",
       " -8.5878882,\n",
       " -122.3915063,\n",
       " -5.665828,\n",
       " -122.335109,\n",
       " -73.986951,\n",
       " -122.0304277,\n",
       " -80.1261226,\n",
       " -122.1417,\n",
       " -122.670399,\n",
       " -123.138565,\n",
       " -74.230704,\n",
       " -86.120971,\n",
       " -122.347276,\n",
       " -117.168697,\n",
       " -80.191821,\n",
       " -118.4844228,\n",
       " -77.293817,\n",
       " -84.335965,\n",
       " -1.7884785,\n",
       " -73.9447994,\n",
       " -103.4174464,\n",
       " -122.072998,\n",
       " -74.0348315,\n",
       " -0.2065907,\n",
       " -94.616021,\n",
       " -74.294395,\n",
       " -118.033495,\n",
       " -72.4436464,\n",
       " -85.794905,\n",
       " -80.776641,\n",
       " -122.1490582,\n",
       " -95.527479,\n",
       " 24.9754678,\n",
       " -73.801901,\n",
       " -79.3780255,\n",
       " -73.5825418,\n",
       " -118.395346,\n",
       " -98.48972,\n",
       " -84.389663,\n",
       " -122.286752,\n",
       " -77.0852258,\n",
       " -87.625677,\n",
       " -122.1235054,\n",
       " -9.1427493,\n",
       " -82.9178838,\n",
       " -77.050052,\n",
       " -122.40971,\n",
       " -74.0094471,\n",
       " -3.6912754,\n",
       " 5.5858466,\n",
       " -84.495636,\n",
       " -76.356869,\n",
       " -95.457796,\n",
       " 2.9608395,\n",
       " 77.3159296,\n",
       " -121.9478049,\n",
       " -73.8304895,\n",
       " 80.2481532,\n",
       " -84.5091102,\n",
       " -90.482766,\n",
       " -118.4818277,\n",
       " -121.9009329,\n",
       " -0.2547278,\n",
       " 7.3554365,\n",
       " -72.5196907,\n",
       " -122.1632941,\n",
       " -122.159291,\n",
       " -107.8792679,\n",
       " -87.624333,\n",
       " -95.452352,\n",
       " -116.7732162,\n",
       " -118.378229,\n",
       " -121.076418,\n",
       " -122.036849,\n",
       " -73.986951,\n",
       " -0.1262362,\n",
       " -71.083762,\n",
       " 4.8343287,\n",
       " 72.9637728,\n",
       " -118.462421,\n",
       " 8.6759098,\n",
       " -1.524702,\n",
       " -123.1333467,\n",
       " -77.222355,\n",
       " 0.1312368,\n",
       " 4.3358472,\n",
       " 24.4280745,\n",
       " -113.493698,\n",
       " -84.338429,\n",
       " 10.0184565,\n",
       " -95.942336,\n",
       " -118.325739,\n",
       " -118.489748,\n",
       " 10.7963809,\n",
       " -74.10081,\n",
       " -122.1802812,\n",
       " -119.186443,\n",
       " 145.065044,\n",
       " -0.2023958,\n",
       " -0.1852079,\n",
       " 0.1312368,\n",
       " -121.928393,\n",
       " 19.0284923,\n",
       " -0.1419622,\n",
       " -0.1262362,\n",
       " -0.1459893,\n",
       " -122.073003,\n",
       " 15.454803,\n",
       " -118.3864712,\n",
       " -0.1365725,\n",
       " -122.42044,\n",
       " 13.6281888,\n",
       " -73.9893359,\n",
       " -122.1802812,\n",
       " 13.4663753,\n",
       " -93.442929,\n",
       " -122.163352,\n",
       " 4.6102492,\n",
       " 16.3736319,\n",
       " 7.771808,\n",
       " -122.3374372,\n",
       " 4.367612,\n",
       " -84.256139,\n",
       " -95.975663,\n",
       " -6.2674937,\n",
       " -77.036972,\n",
       " 2.2863338,\n",
       " -87.6531805,\n",
       " -73.9928423,\n",
       " 114.150564,\n",
       " -80.186473,\n",
       " -77.089398,\n",
       " -74.283346,\n",
       " -2.3626891,\n",
       " -4.0210296,\n",
       " 9.9819779,\n",
       " -122.347276,\n",
       " -80.0520862,\n",
       " -71.0814466,\n",
       " -97.7389543,\n",
       " -73.9918181,\n",
       " -9.135517,\n",
       " -78.832593,\n",
       " -1.5613493,\n",
       " 153.4375,\n",
       " 8.4649954,\n",
       " -73.986951,\n",
       " 2.336453,\n",
       " -0.0994596,\n",
       " 2.3509871,\n",
       " -0.1525048,\n",
       " -122.419204,\n",
       " -80.534491,\n",
       " -122.402922,\n",
       " -75.163808,\n",
       " -73.9918181,\n",
       " -73.9565551,\n",
       " 2.3509871,\n",
       " -81.018312,\n",
       " -0.1038219,\n",
       " 4.8852747,\n",
       " -81.165981,\n",
       " 12.9950742,\n",
       " 103.8510535,\n",
       " 8.5142125,\n",
       " -118.575293,\n",
       " -117.3321424,\n",
       " -77.05681,\n",
       " -122.4160008,\n",
       " -67.1517568,\n",
       " -121.986779,\n",
       " -74.00717,\n",
       " -73.9900984,\n",
       " 2.1920231,\n",
       " -117.735509,\n",
       " -118.4660597,\n",
       " -118.405325,\n",
       " -73.986951]"
      ]
     },
     "execution_count": 156,
     "metadata": {},
     "output_type": "execute_result"
    }
   ],
   "source": [
    "ll=[]\n",
    "for e in lista.offices:\n",
    "    x=e[0][\"longitude\"]\n",
    "    if x != None:\n",
    "        ll.append(x)\n",
    "\n",
    "    \n",
    "ll\n"
   ]
  },
  {
   "cell_type": "markdown",
   "metadata": {},
   "source": [
    "### 17. All the companies on the 'web' `category` that have more than 4000 employees. Sort them by the amount of employees in ascendant order."
   ]
  },
  {
   "cell_type": "code",
   "execution_count": null,
   "metadata": {},
   "outputs": [],
   "source": []
  },
  {
   "cell_type": "markdown",
   "metadata": {},
   "source": [
    "### 18. All the companies which their acquisition amount is more than 10.000.000, and currency are 'EUR'.\n"
   ]
  },
  {
   "cell_type": "code",
   "execution_count": null,
   "metadata": {},
   "outputs": [],
   "source": []
  },
  {
   "cell_type": "markdown",
   "metadata": {},
   "source": [
    "### 19. All the companies that have been acquired on the first trimester of the year. Limit the search to 10 companies, and retrieve only their `name` and `acquisition` fields."
   ]
  },
  {
   "cell_type": "code",
   "execution_count": null,
   "metadata": {},
   "outputs": [],
   "source": []
  },
  {
   "cell_type": "markdown",
   "metadata": {},
   "source": [
    "### 20. All the companies that have been founded between 2000 and 2010, but have not been acquired before 2011."
   ]
  },
  {
   "cell_type": "code",
   "execution_count": null,
   "metadata": {},
   "outputs": [],
   "source": []
  }
 ],
 "metadata": {
  "kernelspec": {
   "display_name": "Python 3",
   "language": "python",
   "name": "python3"
  },
  "language_info": {
   "codemirror_mode": {
    "name": "ipython",
    "version": 3
   },
   "file_extension": ".py",
   "mimetype": "text/x-python",
   "name": "python",
   "nbconvert_exporter": "python",
   "pygments_lexer": "ipython3",
   "version": "3.7.3"
  }
 },
 "nbformat": 4,
 "nbformat_minor": 2
}
