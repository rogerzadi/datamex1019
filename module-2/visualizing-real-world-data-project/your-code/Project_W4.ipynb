{
 "cells": [
  {
   "cell_type": "code",
   "execution_count": 9,
   "metadata": {},
   "outputs": [],
   "source": [
    "from pymongo import MongoClient\n",
    "import pandas as pd\n",
    "import folium \n",
    "client=MongoClient(\"mongodb://localhost:27017/\")\n",
    "db=client.companies"
   ]
  },
  {
   "cell_type": "code",
   "execution_count": 10,
   "metadata": {},
   "outputs": [
    {
     "data": {
      "text/plain": [
       "[{'_id': ObjectId('52cdef7c4bab8bd675297da0'), 'name': 'Babelgum'}]"
      ]
     },
     "execution_count": 10,
     "metadata": {},
     "output_type": "execute_result"
    }
   ],
   "source": [
    "list(db.companies.find({\"name\":\"Babelgum\"},{\"name\"}))"
   ]
  },
  {
   "cell_type": "code",
   "execution_count": 105,
   "metadata": {},
   "outputs": [],
   "source": [
    "class searchplace:\n",
    "    \n",
    "    def __init__(self, n_años, giro, n_empleados):\n",
    "        self.n_años = n_años\n",
    "        self.giro = giro\n",
    "        self.n_empleados = n_empleados\n",
    "    \n",
    "    def filtro(self, n_años,giro,n_empleados):\n",
    "        \n",
    "        bas=pd.DataFrame(db.companies.find({'category_code':giro,'number_of_employees':{'$lt':n_empleados},'founded_year':{'$gte':2013-n_años},'offices.longitude':{\"$exists\":True}}\n",
    "                           ,{'name':1, 'offices.latitude':1,'offices.longitude':1, '_id':0}))\n",
    "        display(bas[\"name\"])\n",
    "        self.coordenadas(bas)\n",
    "        \n",
    "    def mapear(self,lat,long):\n",
    "        mapa=folium.Map(location=[37.090, -95.712], tiles='openstreetmap', zoom_start=4)\n",
    "        for i in range(len(lat)):\n",
    "            folium.Marker([lat[i], long[i]], icon=folium.Icon(color='red')).add_to(mapa)\n",
    "        display(mapa)\n",
    "        \n",
    "    def iniciador(self):\n",
    "        self.filtro(self.n_años,self.giro,self.n_empleados)\n",
    "    \n",
    "    def coordenadas(self,lista):\n",
    "        lati=[]\n",
    "        long=[]\n",
    "        for u in lista.offices:\n",
    "            x=u[0][\"latitude\"]\n",
    "            if x != None:\n",
    "                lati.append(x)\n",
    "        for w in lista.offices:\n",
    "            y=w[0][\"longitude\"]\n",
    "            if y != None:\n",
    "                long.append(y)\n",
    "            \n",
    "        self.mapear(lati,long)\n",
    "        \n",
    "\n"
   ]
  },
  {
   "cell_type": "code",
   "execution_count": 119,
   "metadata": {
    "scrolled": false
   },
   "outputs": [
    {
     "data": {
      "text/plain": [
       "0                           Etchstar\n",
       "1                               txtr\n",
       "2             Contour Data Solutions\n",
       "3                           StyleHop\n",
       "4     Enercient Systems Technologies\n",
       "5                            Coveroo\n",
       "6      Internet Television Solutions\n",
       "7                               Meez\n",
       "8                     Feasa Valencia\n",
       "9                         LSF Design\n",
       "10                            Sigasi\n",
       "11                              gdgt\n",
       "12                           3Gstore\n",
       "13                      Dream Cheeky\n",
       "Name: name, dtype: object"
      ]
     },
     "metadata": {},
     "output_type": "display_data"
    },
    {
     "data": {
      "text/html": [
       "<div style=\"width:100%;\"><div style=\"position:relative;width:100%;height:0;padding-bottom:60%;\"><iframe src=\"data:text/html;charset=utf-8;base64,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\" style=\"position:absolute;width:100%;height:100%;left:0;top:0;border:none !important;\" allowfullscreen webkitallowfullscreen mozallowfullscreen></iframe></div></div>"
      ],
      "text/plain": [
       "<folium.folium.Map at 0x1a82bd1e828>"
      ]
     },
     "metadata": {},
     "output_type": "display_data"
    }
   ],
   "source": [
    "Años_vida = 5\n",
    "Categoria = \"hardware\"\n",
    "Numero_empleados_max= 100\n",
    "Locationspyder = searchplace(Años_vida, Categoria, Numero_empleados_max)\n",
    "Locationspyder.iniciador()"
   ]
  },
  {
   "cell_type": "code",
   "execution_count": null,
   "metadata": {},
   "outputs": [],
   "source": [
    "#Software, Analytics, sports, Hardware\n",
    "#Resultado King of Prussia, Philadelphia"
   ]
  }
 ],
 "metadata": {
  "kernelspec": {
   "display_name": "Python 3",
   "language": "python",
   "name": "python3"
  },
  "language_info": {
   "codemirror_mode": {
    "name": "ipython",
    "version": 3
   },
   "file_extension": ".py",
   "mimetype": "text/x-python",
   "name": "python",
   "nbconvert_exporter": "python",
   "pygments_lexer": "ipython3",
   "version": "3.7.3"
  }
 },
 "nbformat": 4,
 "nbformat_minor": 2
}
