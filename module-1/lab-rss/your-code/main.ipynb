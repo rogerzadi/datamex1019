{
 "cells": [
  {
   "cell_type": "markdown",
   "metadata": {},
   "source": [
    "# Working with RSS Feeds Lab\n",
    "\n",
    "Complete the following set of exercises to solidify your knowledge of parsing RSS feeds and extracting information from them."
   ]
  },
  {
   "cell_type": "code",
   "execution_count": 2,
   "metadata": {},
   "outputs": [],
   "source": [
    "import feedparser"
   ]
  },
  {
   "cell_type": "code",
   "execution_count": 4,
   "metadata": {},
   "outputs": [],
   "source": [
    "\n",
    "atom = feedparser.parse('http://feeds.feedburner.com/oreilly/radar/atom')"
   ]
  },
  {
   "cell_type": "markdown",
   "metadata": {},
   "source": [
    "### 2. Obtain a list of components (keys) that are available for this feed."
   ]
  },
  {
   "cell_type": "code",
   "execution_count": 6,
   "metadata": {},
   "outputs": [
    {
     "name": "stdout",
     "output_type": "stream",
     "text": [
      "{'title': 'Radar', 'title_detail': {'type': 'text/plain', 'language': None, 'base': 'http://feeds.feedburner.com/oreilly/radar/atom', 'value': 'Radar'}, 'links': [{'rel': 'alternate', 'type': 'text/html', 'href': 'https://www.oreilly.com/radar'}, {'rel': 'self', 'type': 'application/rss+xml', 'href': 'http://feeds.feedburner.com/oreilly/radar/atom'}, {'rel': 'hub', 'href': 'http://pubsubhubbub.appspot.com/', 'type': 'text/html'}], 'link': 'https://www.oreilly.com/radar', 'subtitle': 'Now, next, and beyond: Tracking need-to-know trends at the intersection of business and technology', 'subtitle_detail': {'type': 'text/html', 'language': None, 'base': 'http://feeds.feedburner.com/oreilly/radar/atom', 'value': 'Now, next, and beyond: Tracking need-to-know trends at the intersection of business and technology'}, 'updated': 'Wed, 06 Nov 2019 18:47:10 +0000', 'updated_parsed': time.struct_time(tm_year=2019, tm_mon=11, tm_mday=6, tm_hour=18, tm_min=47, tm_sec=10, tm_wday=2, tm_yday=310, tm_isdst=0), 'language': 'en-US', 'sy_updateperiod': 'hourly', 'sy_updatefrequency': '1', 'generator_detail': {'name': 'https://wordpress.org/?v=5.2.4'}, 'generator': 'https://wordpress.org/?v=5.2.4', 'feedburner_info': {'uri': 'oreilly/radar/atom'}, 'geo_lat': '38.393314', 'geo_long': '-122.836667', 'feedburner_emailserviceid': 'oreilly/radar/atom', 'feedburner_feedburnerhostname': 'https://feedburner.google.com'}\n"
     ]
    },
    {
     "data": {
      "text/plain": [
       "dict_keys(['feed', 'entries', 'bozo', 'headers', 'etag', 'updated', 'updated_parsed', 'href', 'status', 'encoding', 'version', 'namespaces'])"
      ]
     },
     "execution_count": 6,
     "metadata": {},
     "output_type": "execute_result"
    }
   ],
   "source": [
    "print(atom['feed'])\n",
    "atom.keys()"
   ]
  },
  {
   "cell_type": "markdown",
   "metadata": {},
   "source": [
    "### 3. Obtain a list of components (keys) that are available for the *feed* component of this RSS feed."
   ]
  },
  {
   "cell_type": "code",
   "execution_count": 7,
   "metadata": {},
   "outputs": [
    {
     "data": {
      "text/plain": [
       "dict_keys(['title', 'title_detail', 'links', 'link', 'subtitle', 'subtitle_detail', 'updated', 'updated_parsed', 'language', 'sy_updateperiod', 'sy_updatefrequency', 'generator_detail', 'generator', 'feedburner_info', 'geo_lat', 'geo_long', 'feedburner_emailserviceid', 'feedburner_feedburnerhostname'])"
      ]
     },
     "execution_count": 7,
     "metadata": {},
     "output_type": "execute_result"
    }
   ],
   "source": [
    "atom.feed.keys()"
   ]
  },
  {
   "cell_type": "markdown",
   "metadata": {},
   "source": [
    "### 4. Extract and print the feed title, subtitle, author, and link."
   ]
  },
  {
   "cell_type": "code",
   "execution_count": 13,
   "metadata": {},
   "outputs": [
    {
     "name": "stdout",
     "output_type": "stream",
     "text": [
      "Radar\n",
      "Now, next, and beyond: Tracking need-to-know trends at the intersection of business and technology\n",
      "https://wordpress.org/?v=5.2.4\n",
      "https://www.oreilly.com/radar\n"
     ]
    }
   ],
   "source": [
    "print (atom.feed.title)\n",
    "print (atom.feed.subtitle)\n",
    "print (atom.feed.generator)\n",
    "print (atom.feed.link)"
   ]
  },
  {
   "cell_type": "markdown",
   "metadata": {},
   "source": [
    "### 5. Count the number of entries that are contained in this RSS feed."
   ]
  },
  {
   "cell_type": "code",
   "execution_count": 19,
   "metadata": {},
   "outputs": [
    {
     "name": "stdout",
     "output_type": "stream",
     "text": [
      "18\n"
     ]
    }
   ],
   "source": [
    "print(len(atom.entries))"
   ]
  },
  {
   "cell_type": "markdown",
   "metadata": {},
   "source": [
    "### 6. Obtain a list of components (keys) available for an entry.\n",
    "\n",
    "*Hint: Remember to index first before requesting the keys*"
   ]
  },
  {
   "cell_type": "code",
   "execution_count": 60,
   "metadata": {},
   "outputs": [
    {
     "data": {
      "text/plain": [
       "dict_keys(['title', 'title_detail', 'links', 'link', 'comments', 'published', 'published_parsed', 'authors', 'author', 'author_detail', 'tags', 'id', 'guidislink', 'summary', 'summary_detail', 'content', 'wfw_commentrss', 'slash_comments', 'feedburner_origlink'])"
      ]
     },
     "execution_count": 60,
     "metadata": {},
     "output_type": "execute_result"
    }
   ],
   "source": [
    "atom.entries[0].keys()"
   ]
  },
  {
   "cell_type": "markdown",
   "metadata": {},
   "source": [
    "### 7. Extract a list of entry titles."
   ]
  },
  {
   "cell_type": "code",
   "execution_count": 21,
   "metadata": {},
   "outputs": [
    {
     "data": {
      "text/plain": [
       "['Highlights from the O’Reilly Velocity Conference in Berlin 2019',\n",
       " 'Highlights from the O’Reilly Software Architecture Conference in Berlin 2019',\n",
       " 'Modern machine learning architectures: Data and hardware and platform, oh my',\n",
       " 'The new norms of cloud native',\n",
       " 'Observability: Understanding production through your customers’ eyes',\n",
       " 'Secure reliable systems',\n",
       " 'My love letter to computer science is very short and I also forgot to mail it',\n",
       " 'Everything is a little bit broken; or, The illusion of control',\n",
       " 'Four short links: 6 November 2019',\n",
       " 'It’s important to cultivate your organization’s collective genius',\n",
       " 'Four short links: 5 November 2019',\n",
       " 'Four short links: 4 November 2019',\n",
       " 'Quantum computing’s potential is still far off, but quantum supremacy shows we’re on the right track',\n",
       " 'Four short links: 1 November 2019',\n",
       " 'Highlights from TensorFlow World in Santa Clara, California 2019',\n",
       " 'Sticker recommendations and AI-driven innovations on the Hike messaging platform',\n",
       " '“Human error”: How can we help people build models that do what they expect',\n",
       " 'Personalization of Spotify Home and TensorFlow']"
      ]
     },
     "execution_count": 21,
     "metadata": {},
     "output_type": "execute_result"
    }
   ],
   "source": [
    "titles = [atom.entries[i].title for i in range(len(atom.entries))]\n",
    "titles"
   ]
  },
  {
   "cell_type": "markdown",
   "metadata": {},
   "source": [
    "### 8. Calculate the percentage of \"Four short links\" entry titles."
   ]
  },
  {
   "cell_type": "code",
   "execution_count": 32,
   "metadata": {},
   "outputs": [
    {
     "data": {
      "text/plain": [
       "4.5"
      ]
     },
     "execution_count": 32,
     "metadata": {},
     "output_type": "execute_result"
    }
   ],
   "source": [
    "count=0\n",
    "for u in titles:\n",
    "    if \"Four short links\" in u:\n",
    "        count+=1\n",
    "    else:\n",
    "        pass\n",
    "len(titles)/count       \n",
    "       \n"
   ]
  },
  {
   "cell_type": "markdown",
   "metadata": {},
   "source": [
    "### 9. Create a Pandas data frame from the feed's entries."
   ]
  },
  {
   "cell_type": "code",
   "execution_count": 22,
   "metadata": {},
   "outputs": [
    {
     "data": {
      "text/html": [
       "<div>\n",
       "<style scoped>\n",
       "    .dataframe tbody tr th:only-of-type {\n",
       "        vertical-align: middle;\n",
       "    }\n",
       "\n",
       "    .dataframe tbody tr th {\n",
       "        vertical-align: top;\n",
       "    }\n",
       "\n",
       "    .dataframe thead th {\n",
       "        text-align: right;\n",
       "    }\n",
       "</style>\n",
       "<table border=\"1\" class=\"dataframe\">\n",
       "  <thead>\n",
       "    <tr style=\"text-align: right;\">\n",
       "      <th></th>\n",
       "      <th>author</th>\n",
       "      <th>author_detail</th>\n",
       "      <th>authors</th>\n",
       "      <th>comments</th>\n",
       "      <th>content</th>\n",
       "      <th>feedburner_origlink</th>\n",
       "      <th>guidislink</th>\n",
       "      <th>id</th>\n",
       "      <th>link</th>\n",
       "      <th>links</th>\n",
       "      <th>published</th>\n",
       "      <th>published_parsed</th>\n",
       "      <th>slash_comments</th>\n",
       "      <th>summary</th>\n",
       "      <th>summary_detail</th>\n",
       "      <th>tags</th>\n",
       "      <th>title</th>\n",
       "      <th>title_detail</th>\n",
       "      <th>wfw_commentrss</th>\n",
       "    </tr>\n",
       "  </thead>\n",
       "  <tbody>\n",
       "    <tr>\n",
       "      <th>0</th>\n",
       "      <td>Mac Slocum</td>\n",
       "      <td>{'name': 'Mac Slocum'}</td>\n",
       "      <td>[{'name': 'Mac Slocum'}]</td>\n",
       "      <td>https://www.oreilly.com/radar/highlights-from-...</td>\n",
       "      <td>[{'type': 'text/html', 'language': None, 'base...</td>\n",
       "      <td>https://www.oreilly.com/radar/highlights-from-...</td>\n",
       "      <td>False</td>\n",
       "      <td>https://www.oreilly.com/radar/?p=10577</td>\n",
       "      <td>http://feedproxy.google.com/~r/oreilly/radar/a...</td>\n",
       "      <td>[{'rel': 'alternate', 'type': 'text/html', 'hr...</td>\n",
       "      <td>Wed, 06 Nov 2019 18:45:07 +0000</td>\n",
       "      <td>(2019, 11, 6, 18, 45, 7, 2, 310, 0)</td>\n",
       "      <td>0</td>\n",
       "      <td>People from across the cloud native and distri...</td>\n",
       "      <td>{'type': 'text/html', 'language': None, 'base'...</td>\n",
       "      <td>[{'term': 'Next Architecture', 'scheme': None,...</td>\n",
       "      <td>Highlights from the O’Reilly Velocity Conferen...</td>\n",
       "      <td>{'type': 'text/plain', 'language': None, 'base...</td>\n",
       "      <td>https://www.oreilly.com/radar/highlights-from-...</td>\n",
       "    </tr>\n",
       "    <tr>\n",
       "      <th>1</th>\n",
       "      <td>Mac Slocum</td>\n",
       "      <td>{'name': 'Mac Slocum'}</td>\n",
       "      <td>[{'name': 'Mac Slocum'}]</td>\n",
       "      <td>https://www.oreilly.com/radar/highlights-from-...</td>\n",
       "      <td>[{'type': 'text/html', 'language': None, 'base...</td>\n",
       "      <td>https://www.oreilly.com/radar/highlights-from-...</td>\n",
       "      <td>False</td>\n",
       "      <td>https://www.oreilly.com/radar/?p=10569</td>\n",
       "      <td>http://feedproxy.google.com/~r/oreilly/radar/a...</td>\n",
       "      <td>[{'rel': 'alternate', 'type': 'text/html', 'hr...</td>\n",
       "      <td>Wed, 06 Nov 2019 18:40:44 +0000</td>\n",
       "      <td>(2019, 11, 6, 18, 40, 44, 2, 310, 0)</td>\n",
       "      <td>0</td>\n",
       "      <td>Experts from across the software architecture ...</td>\n",
       "      <td>{'type': 'text/html', 'language': None, 'base'...</td>\n",
       "      <td>[{'term': 'Next Architecture', 'scheme': None,...</td>\n",
       "      <td>Highlights from the O’Reilly Software Architec...</td>\n",
       "      <td>{'type': 'text/plain', 'language': None, 'base...</td>\n",
       "      <td>https://www.oreilly.com/radar/highlights-from-...</td>\n",
       "    </tr>\n",
       "    <tr>\n",
       "      <th>2</th>\n",
       "      <td>Brian Sletten</td>\n",
       "      <td>{'name': 'Brian Sletten'}</td>\n",
       "      <td>[{'name': 'Brian Sletten'}]</td>\n",
       "      <td>https://www.oreilly.com/radar/modern-machine-l...</td>\n",
       "      <td>[{'type': 'text/html', 'language': None, 'base...</td>\n",
       "      <td>https://www.oreilly.com/radar/modern-machine-l...</td>\n",
       "      <td>False</td>\n",
       "      <td>https://www.oreilly.com/radar/?p=10473</td>\n",
       "      <td>http://feedproxy.google.com/~r/oreilly/radar/a...</td>\n",
       "      <td>[{'rel': 'alternate', 'type': 'text/html', 'hr...</td>\n",
       "      <td>Wed, 06 Nov 2019 18:40:13 +0000</td>\n",
       "      <td>(2019, 11, 6, 18, 40, 13, 2, 310, 0)</td>\n",
       "      <td>0</td>\n",
       "      <td>This is a keynote highlight from the O&amp;#8217;R...</td>\n",
       "      <td>{'type': 'text/html', 'language': None, 'base'...</td>\n",
       "      <td>[{'term': 'Next Architecture', 'scheme': None,...</td>\n",
       "      <td>Modern machine learning architectures: Data an...</td>\n",
       "      <td>{'type': 'text/plain', 'language': None, 'base...</td>\n",
       "      <td>https://www.oreilly.com/radar/modern-machine-l...</td>\n",
       "    </tr>\n",
       "    <tr>\n",
       "      <th>3</th>\n",
       "      <td>Cheryl Hung</td>\n",
       "      <td>{'name': 'Cheryl Hung'}</td>\n",
       "      <td>[{'name': 'Cheryl Hung'}]</td>\n",
       "      <td>https://www.oreilly.com/radar/the-new-norms-of...</td>\n",
       "      <td>[{'type': 'text/html', 'language': None, 'base...</td>\n",
       "      <td>https://www.oreilly.com/radar/the-new-norms-of...</td>\n",
       "      <td>False</td>\n",
       "      <td>https://www.oreilly.com/radar/?p=10484</td>\n",
       "      <td>http://feedproxy.google.com/~r/oreilly/radar/a...</td>\n",
       "      <td>[{'rel': 'alternate', 'type': 'text/html', 'hr...</td>\n",
       "      <td>Wed, 06 Nov 2019 18:40:10 +0000</td>\n",
       "      <td>(2019, 11, 6, 18, 40, 10, 2, 310, 0)</td>\n",
       "      <td>0</td>\n",
       "      <td>This is a keynote highlight from the O&amp;#8217;R...</td>\n",
       "      <td>{'type': 'text/html', 'language': None, 'base'...</td>\n",
       "      <td>[{'term': 'Next Architecture', 'scheme': None,...</td>\n",
       "      <td>The new norms of cloud native</td>\n",
       "      <td>{'type': 'text/plain', 'language': None, 'base...</td>\n",
       "      <td>https://www.oreilly.com/radar/the-new-norms-of...</td>\n",
       "    </tr>\n",
       "    <tr>\n",
       "      <th>4</th>\n",
       "      <td>Christine Yen</td>\n",
       "      <td>{'name': 'Christine Yen'}</td>\n",
       "      <td>[{'name': 'Christine Yen'}]</td>\n",
       "      <td>https://www.oreilly.com/radar/observability-un...</td>\n",
       "      <td>[{'type': 'text/html', 'language': None, 'base...</td>\n",
       "      <td>https://www.oreilly.com/radar/observability-un...</td>\n",
       "      <td>False</td>\n",
       "      <td>https://www.oreilly.com/radar/?p=10517</td>\n",
       "      <td>http://feedproxy.google.com/~r/oreilly/radar/a...</td>\n",
       "      <td>[{'rel': 'alternate', 'type': 'text/html', 'hr...</td>\n",
       "      <td>Wed, 06 Nov 2019 18:30:32 +0000</td>\n",
       "      <td>(2019, 11, 6, 18, 30, 32, 2, 310, 0)</td>\n",
       "      <td>0</td>\n",
       "      <td>This is a keynote highlight from the O&amp;#8217;R...</td>\n",
       "      <td>{'type': 'text/html', 'language': None, 'base'...</td>\n",
       "      <td>[{'term': 'Next Architecture', 'scheme': None,...</td>\n",
       "      <td>Observability: Understanding production throug...</td>\n",
       "      <td>{'type': 'text/plain', 'language': None, 'base...</td>\n",
       "      <td>https://www.oreilly.com/radar/observability-un...</td>\n",
       "    </tr>\n",
       "  </tbody>\n",
       "</table>\n",
       "</div>"
      ],
      "text/plain": [
       "          author              author_detail                      authors  \\\n",
       "0     Mac Slocum     {'name': 'Mac Slocum'}     [{'name': 'Mac Slocum'}]   \n",
       "1     Mac Slocum     {'name': 'Mac Slocum'}     [{'name': 'Mac Slocum'}]   \n",
       "2  Brian Sletten  {'name': 'Brian Sletten'}  [{'name': 'Brian Sletten'}]   \n",
       "3    Cheryl Hung    {'name': 'Cheryl Hung'}    [{'name': 'Cheryl Hung'}]   \n",
       "4  Christine Yen  {'name': 'Christine Yen'}  [{'name': 'Christine Yen'}]   \n",
       "\n",
       "                                            comments  \\\n",
       "0  https://www.oreilly.com/radar/highlights-from-...   \n",
       "1  https://www.oreilly.com/radar/highlights-from-...   \n",
       "2  https://www.oreilly.com/radar/modern-machine-l...   \n",
       "3  https://www.oreilly.com/radar/the-new-norms-of...   \n",
       "4  https://www.oreilly.com/radar/observability-un...   \n",
       "\n",
       "                                             content  \\\n",
       "0  [{'type': 'text/html', 'language': None, 'base...   \n",
       "1  [{'type': 'text/html', 'language': None, 'base...   \n",
       "2  [{'type': 'text/html', 'language': None, 'base...   \n",
       "3  [{'type': 'text/html', 'language': None, 'base...   \n",
       "4  [{'type': 'text/html', 'language': None, 'base...   \n",
       "\n",
       "                                 feedburner_origlink  guidislink  \\\n",
       "0  https://www.oreilly.com/radar/highlights-from-...       False   \n",
       "1  https://www.oreilly.com/radar/highlights-from-...       False   \n",
       "2  https://www.oreilly.com/radar/modern-machine-l...       False   \n",
       "3  https://www.oreilly.com/radar/the-new-norms-of...       False   \n",
       "4  https://www.oreilly.com/radar/observability-un...       False   \n",
       "\n",
       "                                       id  \\\n",
       "0  https://www.oreilly.com/radar/?p=10577   \n",
       "1  https://www.oreilly.com/radar/?p=10569   \n",
       "2  https://www.oreilly.com/radar/?p=10473   \n",
       "3  https://www.oreilly.com/radar/?p=10484   \n",
       "4  https://www.oreilly.com/radar/?p=10517   \n",
       "\n",
       "                                                link  \\\n",
       "0  http://feedproxy.google.com/~r/oreilly/radar/a...   \n",
       "1  http://feedproxy.google.com/~r/oreilly/radar/a...   \n",
       "2  http://feedproxy.google.com/~r/oreilly/radar/a...   \n",
       "3  http://feedproxy.google.com/~r/oreilly/radar/a...   \n",
       "4  http://feedproxy.google.com/~r/oreilly/radar/a...   \n",
       "\n",
       "                                               links  \\\n",
       "0  [{'rel': 'alternate', 'type': 'text/html', 'hr...   \n",
       "1  [{'rel': 'alternate', 'type': 'text/html', 'hr...   \n",
       "2  [{'rel': 'alternate', 'type': 'text/html', 'hr...   \n",
       "3  [{'rel': 'alternate', 'type': 'text/html', 'hr...   \n",
       "4  [{'rel': 'alternate', 'type': 'text/html', 'hr...   \n",
       "\n",
       "                         published                      published_parsed  \\\n",
       "0  Wed, 06 Nov 2019 18:45:07 +0000   (2019, 11, 6, 18, 45, 7, 2, 310, 0)   \n",
       "1  Wed, 06 Nov 2019 18:40:44 +0000  (2019, 11, 6, 18, 40, 44, 2, 310, 0)   \n",
       "2  Wed, 06 Nov 2019 18:40:13 +0000  (2019, 11, 6, 18, 40, 13, 2, 310, 0)   \n",
       "3  Wed, 06 Nov 2019 18:40:10 +0000  (2019, 11, 6, 18, 40, 10, 2, 310, 0)   \n",
       "4  Wed, 06 Nov 2019 18:30:32 +0000  (2019, 11, 6, 18, 30, 32, 2, 310, 0)   \n",
       "\n",
       "  slash_comments                                            summary  \\\n",
       "0              0  People from across the cloud native and distri...   \n",
       "1              0  Experts from across the software architecture ...   \n",
       "2              0  This is a keynote highlight from the O&#8217;R...   \n",
       "3              0  This is a keynote highlight from the O&#8217;R...   \n",
       "4              0  This is a keynote highlight from the O&#8217;R...   \n",
       "\n",
       "                                      summary_detail  \\\n",
       "0  {'type': 'text/html', 'language': None, 'base'...   \n",
       "1  {'type': 'text/html', 'language': None, 'base'...   \n",
       "2  {'type': 'text/html', 'language': None, 'base'...   \n",
       "3  {'type': 'text/html', 'language': None, 'base'...   \n",
       "4  {'type': 'text/html', 'language': None, 'base'...   \n",
       "\n",
       "                                                tags  \\\n",
       "0  [{'term': 'Next Architecture', 'scheme': None,...   \n",
       "1  [{'term': 'Next Architecture', 'scheme': None,...   \n",
       "2  [{'term': 'Next Architecture', 'scheme': None,...   \n",
       "3  [{'term': 'Next Architecture', 'scheme': None,...   \n",
       "4  [{'term': 'Next Architecture', 'scheme': None,...   \n",
       "\n",
       "                                               title  \\\n",
       "0  Highlights from the O’Reilly Velocity Conferen...   \n",
       "1  Highlights from the O’Reilly Software Architec...   \n",
       "2  Modern machine learning architectures: Data an...   \n",
       "3                      The new norms of cloud native   \n",
       "4  Observability: Understanding production throug...   \n",
       "\n",
       "                                        title_detail  \\\n",
       "0  {'type': 'text/plain', 'language': None, 'base...   \n",
       "1  {'type': 'text/plain', 'language': None, 'base...   \n",
       "2  {'type': 'text/plain', 'language': None, 'base...   \n",
       "3  {'type': 'text/plain', 'language': None, 'base...   \n",
       "4  {'type': 'text/plain', 'language': None, 'base...   \n",
       "\n",
       "                                      wfw_commentrss  \n",
       "0  https://www.oreilly.com/radar/highlights-from-...  \n",
       "1  https://www.oreilly.com/radar/highlights-from-...  \n",
       "2  https://www.oreilly.com/radar/modern-machine-l...  \n",
       "3  https://www.oreilly.com/radar/the-new-norms-of...  \n",
       "4  https://www.oreilly.com/radar/observability-un...  "
      ]
     },
     "execution_count": 22,
     "metadata": {},
     "output_type": "execute_result"
    }
   ],
   "source": [
    "import pandas as pd\n",
    "\n",
    "df = pd.DataFrame(atom.entries)\n",
    "df.head()"
   ]
  },
  {
   "cell_type": "markdown",
   "metadata": {},
   "source": [
    "### 10. Count the number of entries per author and sort them in descending order."
   ]
  },
  {
   "cell_type": "code",
   "execution_count": 44,
   "metadata": {},
   "outputs": [
    {
     "data": {
      "text/plain": [
       "Nat Torkington      4\n",
       "Mac Slocum          3\n",
       "Ana Oprea           1\n",
       "Tony Jebara         1\n",
       "Heidi Waterhouse    1\n",
       "Christine Yen       1\n",
       "Anna Roth           1\n",
       "Cheryl Hung         1\n",
       "Brian Sletten       1\n",
       "Ankur Narang        1\n",
       "Mike Loukides       1\n",
       "Jenn Webb           1\n",
       "James Mickens       1\n",
       "Name: author, dtype: int64"
      ]
     },
     "execution_count": 44,
     "metadata": {},
     "output_type": "execute_result"
    }
   ],
   "source": [
    "df.author.value_counts()"
   ]
  },
  {
   "cell_type": "markdown",
   "metadata": {},
   "source": [
    "### 11. Add a new column to the data frame that contains the length (number of characters) of each entry title. Return a data frame that contains the title, author, and title length of each entry in descending order (longest title length at the top)."
   ]
  },
  {
   "cell_type": "code",
   "execution_count": 72,
   "metadata": {},
   "outputs": [
    {
     "data": {
      "text/html": [
       "<div>\n",
       "<style scoped>\n",
       "    .dataframe tbody tr th:only-of-type {\n",
       "        vertical-align: middle;\n",
       "    }\n",
       "\n",
       "    .dataframe tbody tr th {\n",
       "        vertical-align: top;\n",
       "    }\n",
       "\n",
       "    .dataframe thead th {\n",
       "        text-align: right;\n",
       "    }\n",
       "</style>\n",
       "<table border=\"1\" class=\"dataframe\">\n",
       "  <thead>\n",
       "    <tr style=\"text-align: right;\">\n",
       "      <th></th>\n",
       "      <th>author</th>\n",
       "      <th>title</th>\n",
       "      <th>Number</th>\n",
       "    </tr>\n",
       "  </thead>\n",
       "  <tbody>\n",
       "    <tr>\n",
       "      <th>12</th>\n",
       "      <td>Mike Loukides</td>\n",
       "      <td>Quantum computing’s potential is still far off...</td>\n",
       "      <td>100</td>\n",
       "    </tr>\n",
       "    <tr>\n",
       "      <th>15</th>\n",
       "      <td>Ankur Narang</td>\n",
       "      <td>Sticker recommendations and AI-driven innovati...</td>\n",
       "      <td>80</td>\n",
       "    </tr>\n",
       "    <tr>\n",
       "      <th>6</th>\n",
       "      <td>James Mickens</td>\n",
       "      <td>My love letter to computer science is very sho...</td>\n",
       "      <td>77</td>\n",
       "    </tr>\n",
       "    <tr>\n",
       "      <th>1</th>\n",
       "      <td>Mac Slocum</td>\n",
       "      <td>Highlights from the O’Reilly Software Architec...</td>\n",
       "      <td>76</td>\n",
       "    </tr>\n",
       "    <tr>\n",
       "      <th>2</th>\n",
       "      <td>Brian Sletten</td>\n",
       "      <td>Modern machine learning architectures: Data an...</td>\n",
       "      <td>76</td>\n",
       "    </tr>\n",
       "    <tr>\n",
       "      <th>16</th>\n",
       "      <td>Anna Roth</td>\n",
       "      <td>“Human error”: How can we help people build mo...</td>\n",
       "      <td>75</td>\n",
       "    </tr>\n",
       "    <tr>\n",
       "      <th>4</th>\n",
       "      <td>Christine Yen</td>\n",
       "      <td>Observability: Understanding production throug...</td>\n",
       "      <td>68</td>\n",
       "    </tr>\n",
       "    <tr>\n",
       "      <th>9</th>\n",
       "      <td>Jenn Webb</td>\n",
       "      <td>It’s important to cultivate your organization’...</td>\n",
       "      <td>65</td>\n",
       "    </tr>\n",
       "    <tr>\n",
       "      <th>14</th>\n",
       "      <td>Mac Slocum</td>\n",
       "      <td>Highlights from TensorFlow World in Santa Clar...</td>\n",
       "      <td>64</td>\n",
       "    </tr>\n",
       "    <tr>\n",
       "      <th>0</th>\n",
       "      <td>Mac Slocum</td>\n",
       "      <td>Highlights from the O’Reilly Velocity Conferen...</td>\n",
       "      <td>63</td>\n",
       "    </tr>\n",
       "    <tr>\n",
       "      <th>7</th>\n",
       "      <td>Heidi Waterhouse</td>\n",
       "      <td>Everything is a little bit broken; or, The ill...</td>\n",
       "      <td>62</td>\n",
       "    </tr>\n",
       "    <tr>\n",
       "      <th>17</th>\n",
       "      <td>Tony Jebara</td>\n",
       "      <td>Personalization of Spotify Home and TensorFlow</td>\n",
       "      <td>46</td>\n",
       "    </tr>\n",
       "    <tr>\n",
       "      <th>10</th>\n",
       "      <td>Nat Torkington</td>\n",
       "      <td>Four short links: 5 November 2019</td>\n",
       "      <td>33</td>\n",
       "    </tr>\n",
       "    <tr>\n",
       "      <th>11</th>\n",
       "      <td>Nat Torkington</td>\n",
       "      <td>Four short links: 4 November 2019</td>\n",
       "      <td>33</td>\n",
       "    </tr>\n",
       "    <tr>\n",
       "      <th>8</th>\n",
       "      <td>Nat Torkington</td>\n",
       "      <td>Four short links: 6 November 2019</td>\n",
       "      <td>33</td>\n",
       "    </tr>\n",
       "    <tr>\n",
       "      <th>13</th>\n",
       "      <td>Nat Torkington</td>\n",
       "      <td>Four short links: 1 November 2019</td>\n",
       "      <td>33</td>\n",
       "    </tr>\n",
       "    <tr>\n",
       "      <th>3</th>\n",
       "      <td>Cheryl Hung</td>\n",
       "      <td>The new norms of cloud native</td>\n",
       "      <td>29</td>\n",
       "    </tr>\n",
       "    <tr>\n",
       "      <th>5</th>\n",
       "      <td>Ana Oprea</td>\n",
       "      <td>Secure reliable systems</td>\n",
       "      <td>23</td>\n",
       "    </tr>\n",
       "  </tbody>\n",
       "</table>\n",
       "</div>"
      ],
      "text/plain": [
       "              author                                              title  \\\n",
       "12     Mike Loukides  Quantum computing’s potential is still far off...   \n",
       "15      Ankur Narang  Sticker recommendations and AI-driven innovati...   \n",
       "6      James Mickens  My love letter to computer science is very sho...   \n",
       "1         Mac Slocum  Highlights from the O’Reilly Software Architec...   \n",
       "2      Brian Sletten  Modern machine learning architectures: Data an...   \n",
       "16         Anna Roth  “Human error”: How can we help people build mo...   \n",
       "4      Christine Yen  Observability: Understanding production throug...   \n",
       "9          Jenn Webb  It’s important to cultivate your organization’...   \n",
       "14        Mac Slocum  Highlights from TensorFlow World in Santa Clar...   \n",
       "0         Mac Slocum  Highlights from the O’Reilly Velocity Conferen...   \n",
       "7   Heidi Waterhouse  Everything is a little bit broken; or, The ill...   \n",
       "17       Tony Jebara     Personalization of Spotify Home and TensorFlow   \n",
       "10    Nat Torkington                  Four short links: 5 November 2019   \n",
       "11    Nat Torkington                  Four short links: 4 November 2019   \n",
       "8     Nat Torkington                  Four short links: 6 November 2019   \n",
       "13    Nat Torkington                  Four short links: 1 November 2019   \n",
       "3        Cheryl Hung                      The new norms of cloud native   \n",
       "5          Ana Oprea                            Secure reliable systems   \n",
       "\n",
       "    Number  \n",
       "12     100  \n",
       "15      80  \n",
       "6       77  \n",
       "1       76  \n",
       "2       76  \n",
       "16      75  \n",
       "4       68  \n",
       "9       65  \n",
       "14      64  \n",
       "0       63  \n",
       "7       62  \n",
       "17      46  \n",
       "10      33  \n",
       "11      33  \n",
       "8       33  \n",
       "13      33  \n",
       "3       29  \n",
       "5       23  "
      ]
     },
     "execution_count": 72,
     "metadata": {},
     "output_type": "execute_result"
    }
   ],
   "source": [
    "count = df['title'].apply(len)\n",
    "df1 = pd.DataFrame({\"author\": df[\"author\"], \"title\":df[\"title\"], \"Number\": count})\n",
    "df1.sort_values(\"Number\",ascending=False)"
   ]
  },
  {
   "cell_type": "markdown",
   "metadata": {},
   "source": [
    "    ### 12. Create a list of entry titles whose summary includes the phrase \"machine learning.\""
   ]
  },
  {
   "cell_type": "code",
   "execution_count": 73,
   "metadata": {},
   "outputs": [
    {
     "data": {
      "text/plain": [
       "['Modern machine learning architectures: Data and hardware and platform, oh my']"
      ]
     },
     "execution_count": 73,
     "metadata": {},
     "output_type": "execute_result"
    }
   ],
   "source": [
    "lista=[]\n",
    "for u in titles:\n",
    "    if \"machine learning\" in u:\n",
    "        lista.append(u)\n",
    "    else:\n",
    "        pass\n",
    "lista "
   ]
  }
 ],
 "metadata": {
  "kernelspec": {
   "display_name": "Python 3",
   "language": "python",
   "name": "python3"
  },
  "language_info": {
   "codemirror_mode": {
    "name": "ipython",
    "version": 3
   },
   "file_extension": ".py",
   "mimetype": "text/x-python",
   "name": "python",
   "nbconvert_exporter": "python",
   "pygments_lexer": "ipython3",
   "version": "3.7.3"
  }
 },
 "nbformat": 4,
 "nbformat_minor": 2
}
