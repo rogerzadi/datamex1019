{
 "cells": [
  {
   "cell_type": "code",
   "execution_count": 1,
   "metadata": {},
   "outputs": [],
   "source": [
    "%matplotlib inline\n",
    "\n",
    "import numpy as np\n",
    "import pandas as pd\n",
    "import matplotlib.pyplot as plt\n",
    "import seaborn as sns"
   ]
  },
  {
   "cell_type": "code",
   "execution_count": 2,
   "metadata": {},
   "outputs": [],
   "source": [
    "airbnb=pd.read_csv('airbnb_data.csv')"
   ]
  },
  {
   "cell_type": "code",
   "execution_count": 3,
   "metadata": {},
   "outputs": [
    {
     "name": "stdout",
     "output_type": "stream",
     "text": [
      "<class 'pandas.core.frame.DataFrame'>\n",
      "RangeIndex: 28877 entries, 0 to 28876\n",
      "Data columns (total 28 columns):\n",
      "property_type             28877 non-null object\n",
      "room_type                 28877 non-null object\n",
      "amenities                 28877 non-null object\n",
      "accommodates              28877 non-null int64\n",
      "bathrooms                 28877 non-null float64\n",
      "bed_type                  28877 non-null object\n",
      "cancellation_policy       28877 non-null object\n",
      "cleaning_fee              28877 non-null bool\n",
      "city                      28877 non-null object\n",
      "description               28877 non-null object\n",
      "first_review              28877 non-null object\n",
      "host_has_profile_pic      28877 non-null object\n",
      "host_identity_verified    28877 non-null object\n",
      "host_response_rate        28877 non-null object\n",
      "host_since                28877 non-null object\n",
      "instant_bookable          28877 non-null object\n",
      "last_review               28877 non-null object\n",
      "latitude                  28877 non-null float64\n",
      "longitude                 28877 non-null float64\n",
      "name                      28877 non-null object\n",
      "neighbourhood             28877 non-null object\n",
      "number_of_reviews         28877 non-null int64\n",
      "review_scores_rating      28877 non-null float64\n",
      "thumbnail_url             28877 non-null object\n",
      "zipcode                   28877 non-null object\n",
      "bedrooms                  28877 non-null float64\n",
      "beds                      28877 non-null float64\n",
      "price                     28877 non-null float64\n",
      "dtypes: bool(1), float64(7), int64(2), object(18)\n",
      "memory usage: 6.0+ MB\n"
     ]
    }
   ],
   "source": [
    "airbnb.info()"
   ]
  },
  {
   "cell_type": "code",
   "execution_count": 4,
   "metadata": {},
   "outputs": [],
   "source": [
    "#reescalado\n",
    "def escala(x):\n",
    "    return (x/100)\n",
    "def escalastr(x):\n",
    "    if '%' in x:\n",
    "        r = float(x.replace('%', ''))/100   \n",
    "    else:\n",
    "        r=x\n",
    "    return float(r)\n",
    "def tf(x):\n",
    "    if \"f\" in x:\n",
    "        r=0\n",
    "    if \"t\" in x:\n",
    "        r=1\n",
    "    return r\n",
    "airbnb[\"host_response_rate\"]=airbnb[\"host_response_rate\"].apply(escalastr)\n",
    "airbnb[\"instant_bookable\"]=airbnb[\"instant_bookable\"].apply(tf)\n",
    "airbnb[\"review_scores_rating\"]=airbnb[\"review_scores_rating\"].apply(escala)"
   ]
  },
  {
   "cell_type": "code",
   "execution_count": 5,
   "metadata": {},
   "outputs": [
    {
     "name": "stdout",
     "output_type": "stream",
     "text": [
      "<class 'pandas.core.frame.DataFrame'>\n",
      "RangeIndex: 28877 entries, 0 to 28876\n",
      "Data columns (total 28 columns):\n",
      "property_type             28877 non-null category\n",
      "room_type                 28877 non-null category\n",
      "amenities                 28877 non-null category\n",
      "accommodates              28877 non-null int8\n",
      "bathrooms                 28877 non-null float32\n",
      "bed_type                  28877 non-null category\n",
      "cancellation_policy       28877 non-null category\n",
      "cleaning_fee              28877 non-null bool\n",
      "city                      28877 non-null category\n",
      "description               28877 non-null category\n",
      "first_review              28877 non-null category\n",
      "host_has_profile_pic      28877 non-null category\n",
      "host_identity_verified    28877 non-null category\n",
      "host_response_rate        28877 non-null float32\n",
      "host_since                28877 non-null category\n",
      "instant_bookable          28877 non-null int8\n",
      "last_review               28877 non-null category\n",
      "latitude                  28877 non-null float32\n",
      "longitude                 28877 non-null float32\n",
      "name                      28877 non-null category\n",
      "neighbourhood             28877 non-null category\n",
      "number_of_reviews         28877 non-null int16\n",
      "review_scores_rating      28877 non-null float32\n",
      "thumbnail_url             28877 non-null category\n",
      "zipcode                   28877 non-null category\n",
      "bedrooms                  28877 non-null int32\n",
      "beds                      28877 non-null int32\n",
      "price                     28877 non-null float32\n",
      "dtypes: bool(1), category(16), float32(6), int16(1), int32(2), int8(2)\n",
      "memory usage: 7.9 MB\n"
     ]
    }
   ],
   "source": [
    "#Camabio de types\n",
    "for e in airbnb.select_dtypes('object').columns:\n",
    "    airbnb[e]=airbnb[e].astype('category')\n",
    "for e in airbnb.select_dtypes('integer').columns:\n",
    "    airbnb[e]=pd.to_numeric(airbnb[e], downcast='integer')\n",
    "for e in airbnb.select_dtypes('float').columns:\n",
    "    airbnb[e]=pd.to_numeric(airbnb[e], downcast='float')\n",
    "airbnb[\"bedrooms\"]=airbnb.bedrooms.astype(int)\n",
    "airbnb[\"beds\"]=airbnb.beds.astype(int)\n",
    "airbnb[\"cleaning_fee\"]=airbnb.cleaning_fee.astype(int)\n",
    "airbnb.info()\n"
   ]
  },
  {
   "cell_type": "code",
   "execution_count": 58,
   "metadata": {},
   "outputs": [
    {
     "name": "stdout",
     "output_type": "stream",
     "text": [
      "[10  2 20  5  7  3  1 22  9  8 16  1 17  6  4  1 15  1 12 19 13 11  1 23\n",
      " 21 14 25 18 24  1]\n"
     ]
    },
    {
     "data": {
      "text/plain": [
       "['Camper/RV', 'Dorm', 'Hostel', 'Hut', 'Tent', 'Yurt']"
      ]
     },
     "execution_count": 58,
     "metadata": {},
     "output_type": "execute_result"
    }
   ],
   "source": [
    "from sklearn.feature_selection import RFE\n",
    "from sklearn.linear_model import LinearRegression\n",
    "from sklearn.model_selection import train_test_split\n",
    "df1=pd.get_dummies(airbnb.property_type,drop_first=False)\n",
    "df1.columns\n",
    "features=df1.columns\n",
    "\n",
    "target='price'\n",
    "X_train, X_test, y_train, y_test=train_test_split(df1[features], \n",
    "                                                  airbnb[target],\n",
    "                                                  test_size=0.2)\n",
    "modelo=LinearRegression()\n",
    "selector=RFE(modelo, n_features_to_select=6, step=1)\n",
    "selector.fit(X_train, y_train)\n",
    "print (selector.ranking_)\n",
    "[features[i] for i,e in enumerate(selector.support_) if e]"
   ]
  },
  {
   "cell_type": "code",
   "execution_count": 33,
   "metadata": {},
   "outputs": [
    {
     "data": {
      "text/plain": [
       "Entire home/apt    16158\n",
       "Private room       11993\n",
       "Shared room          726\n",
       "Name: room_type, dtype: int64"
      ]
     },
     "execution_count": 33,
     "metadata": {},
     "output_type": "execute_result"
    }
   ],
   "source": [
    "airbnb.room_type.value_counts()"
   ]
  },
  {
   "cell_type": "code",
   "execution_count": 60,
   "metadata": {},
   "outputs": [
    {
     "data": {
      "text/plain": [
       "0    Enjoy travelling during your stay in Manhattan...\n",
       "1    Beautiful private room overlooking scenic view...\n",
       "2    Arguably the best location (and safest) in dow...\n",
       "3    Garden Studio with private entrance from the s...\n",
       "4    This is a bright bedroom in an historic buildi...\n",
       "Name: description, dtype: category\n",
       "Categories (28685, object): [Great sunny second floor apartment in..., We invite you to enjoy New York City t..., Cool and comfortable one bedroom and pr..., Gorgeous and Comfortable single in the h..., ..., 选址于知名华人社区,位于圣盖博市,让您完全没有语言障碍,离夏威夷超市,九九大华超市,顺发超市..., 這間原來是我兒子的房間,還有一些衣物,書籍在房内,室寬約20平方米(150平方尺)還有空間可..., 나의 집 처럼 편안하게 지내다 가세요! You will feel this is yo..., 침대는 퀸싸이즈새것입니다 침대 헤드보드에 스피커가있어서 핸드폰연결하고 전화 음악 스...]"
      ]
     },
     "execution_count": 60,
     "metadata": {},
     "output_type": "execute_result"
    }
   ],
   "source": [
    "dfpropetytype=df1[['Camper/RV', 'Dorm', 'Hostel', 'Hut', 'Tent', 'Yurt']]\n",
    "dfroomtype=pd.get_dummies(airbnb.room_type,drop_first=False)\n",
    "dfcancellation=pd.get_dummies(airbnb.cancellation_policy,drop_first=False).drop(columns=[\"super_strict_30\",\"super_strict_60\"])\n",
    "dfcity=pd.get_dummies(airbnb.city,drop_first=False)\n",
    "airbnb.description.head()"
   ]
  },
  {
   "cell_type": "code",
   "execution_count": 61,
   "metadata": {},
   "outputs": [
    {
     "data": {
      "image/png": "[encoded data removed]",
      "text/plain": [
       "<Figure size 864x720 with 2 Axes>"
      ]
     },
     "metadata": {
      "needs_background": "light"
     },
     "output_type": "display_data"
    }
   ],
   "source": [
    "airbnb.corr()\n",
    "plt.figure(figsize=(12,10))\n",
    "sns.heatmap(airbnb.corr(), cmap='viridis');"
   ]
  }
 ],
 "metadata": {
  "kernelspec": {
   "display_name": "Python 3",
   "language": "python",
   "name": "python3"
  },
  "language_info": {
   "codemirror_mode": {
    "name": "ipython",
    "version": 3
   },
   "file_extension": ".py",
   "mimetype": "text/x-python",
   "name": "python",
   "nbconvert_exporter": "python",
   "pygments_lexer": "ipython3",
   "version": "3.7.3"
  }
 },
 "nbformat": 4,
 "nbformat_minor": 2
}
