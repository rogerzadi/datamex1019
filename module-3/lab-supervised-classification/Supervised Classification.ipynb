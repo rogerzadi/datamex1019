{
 "cells": [
  {
   "cell_type": "markdown",
   "metadata": {},
   "source": [
    "# Supervised classification\n",
    "\n",
    "In the data.csv there are letters (uppercases and lowercases) and numbers, 28x28 pixels in a row format.\n",
    "\n",
    "* First, you need to know which labels are which, meaning you need to visualize some data to realize which number labels represents a letter, or a number."
   ]
  },
  {
   "cell_type": "code",
   "execution_count": 1,
   "metadata": {},
   "outputs": [],
   "source": [
    "import pandas as pd\n",
    "import zipfile\n",
    "import matplotlib.pyplot as plt\n",
    "import numpy as np\n",
    "from sklearn.model_selection import train_test_split"
   ]
  },
  {
   "cell_type": "code",
   "execution_count": 2,
   "metadata": {},
   "outputs": [
    {
     "data": {
      "text/html": [
       "<div>\n",
       "<style scoped>\n",
       "    .dataframe tbody tr th:only-of-type {\n",
       "        vertical-align: middle;\n",
       "    }\n",
       "\n",
       "    .dataframe tbody tr th {\n",
       "        vertical-align: top;\n",
       "    }\n",
       "\n",
       "    .dataframe thead th {\n",
       "        text-align: right;\n",
       "    }\n",
       "</style>\n",
       "<table border=\"1\" class=\"dataframe\">\n",
       "  <thead>\n",
       "    <tr style=\"text-align: right;\">\n",
       "      <th></th>\n",
       "      <th>e</th>\n",
       "      <th>1</th>\n",
       "      <th>2</th>\n",
       "      <th>3</th>\n",
       "      <th>4</th>\n",
       "      <th>5</th>\n",
       "      <th>6</th>\n",
       "      <th>7</th>\n",
       "      <th>8</th>\n",
       "      <th>9</th>\n",
       "      <th>...</th>\n",
       "      <th>775</th>\n",
       "      <th>776</th>\n",
       "      <th>777</th>\n",
       "      <th>778</th>\n",
       "      <th>779</th>\n",
       "      <th>780</th>\n",
       "      <th>781</th>\n",
       "      <th>782</th>\n",
       "      <th>783</th>\n",
       "      <th>784</th>\n",
       "    </tr>\n",
       "  </thead>\n",
       "  <tbody>\n",
       "    <tr>\n",
       "      <th>0</th>\n",
       "      <td>36.0</td>\n",
       "      <td>0.0</td>\n",
       "      <td>0.0</td>\n",
       "      <td>0.0</td>\n",
       "      <td>0.0</td>\n",
       "      <td>0.0</td>\n",
       "      <td>0.0</td>\n",
       "      <td>0.0</td>\n",
       "      <td>0.0</td>\n",
       "      <td>0.0</td>\n",
       "      <td>...</td>\n",
       "      <td>0.0</td>\n",
       "      <td>0.0</td>\n",
       "      <td>0.0</td>\n",
       "      <td>0.0</td>\n",
       "      <td>0.0</td>\n",
       "      <td>0.0</td>\n",
       "      <td>0.0</td>\n",
       "      <td>0.0</td>\n",
       "      <td>0.0</td>\n",
       "      <td>0.0</td>\n",
       "    </tr>\n",
       "    <tr>\n",
       "      <th>1</th>\n",
       "      <td>0.0</td>\n",
       "      <td>0.0</td>\n",
       "      <td>0.0</td>\n",
       "      <td>0.0</td>\n",
       "      <td>0.0</td>\n",
       "      <td>0.0</td>\n",
       "      <td>0.0</td>\n",
       "      <td>0.0</td>\n",
       "      <td>0.0</td>\n",
       "      <td>0.0</td>\n",
       "      <td>...</td>\n",
       "      <td>0.0</td>\n",
       "      <td>0.0</td>\n",
       "      <td>0.0</td>\n",
       "      <td>0.0</td>\n",
       "      <td>0.0</td>\n",
       "      <td>0.0</td>\n",
       "      <td>0.0</td>\n",
       "      <td>0.0</td>\n",
       "      <td>0.0</td>\n",
       "      <td>0.0</td>\n",
       "    </tr>\n",
       "    <tr>\n",
       "      <th>2</th>\n",
       "      <td>3.0</td>\n",
       "      <td>0.0</td>\n",
       "      <td>0.0</td>\n",
       "      <td>0.0</td>\n",
       "      <td>0.0</td>\n",
       "      <td>0.0</td>\n",
       "      <td>0.0</td>\n",
       "      <td>0.0</td>\n",
       "      <td>0.0</td>\n",
       "      <td>0.0</td>\n",
       "      <td>...</td>\n",
       "      <td>0.0</td>\n",
       "      <td>0.0</td>\n",
       "      <td>0.0</td>\n",
       "      <td>0.0</td>\n",
       "      <td>0.0</td>\n",
       "      <td>0.0</td>\n",
       "      <td>0.0</td>\n",
       "      <td>0.0</td>\n",
       "      <td>0.0</td>\n",
       "      <td>0.0</td>\n",
       "    </tr>\n",
       "    <tr>\n",
       "      <th>3</th>\n",
       "      <td>33.0</td>\n",
       "      <td>0.0</td>\n",
       "      <td>0.0</td>\n",
       "      <td>0.0</td>\n",
       "      <td>0.0</td>\n",
       "      <td>0.0</td>\n",
       "      <td>0.0</td>\n",
       "      <td>0.0</td>\n",
       "      <td>0.0</td>\n",
       "      <td>0.0</td>\n",
       "      <td>...</td>\n",
       "      <td>0.0</td>\n",
       "      <td>0.0</td>\n",
       "      <td>0.0</td>\n",
       "      <td>0.0</td>\n",
       "      <td>0.0</td>\n",
       "      <td>0.0</td>\n",
       "      <td>0.0</td>\n",
       "      <td>0.0</td>\n",
       "      <td>0.0</td>\n",
       "      <td>0.0</td>\n",
       "    </tr>\n",
       "    <tr>\n",
       "      <th>4</th>\n",
       "      <td>30.0</td>\n",
       "      <td>0.0</td>\n",
       "      <td>0.0</td>\n",
       "      <td>0.0</td>\n",
       "      <td>0.0</td>\n",
       "      <td>0.0</td>\n",
       "      <td>0.0</td>\n",
       "      <td>0.0</td>\n",
       "      <td>0.0</td>\n",
       "      <td>0.0</td>\n",
       "      <td>...</td>\n",
       "      <td>0.0</td>\n",
       "      <td>0.0</td>\n",
       "      <td>0.0</td>\n",
       "      <td>0.0</td>\n",
       "      <td>0.0</td>\n",
       "      <td>0.0</td>\n",
       "      <td>0.0</td>\n",
       "      <td>0.0</td>\n",
       "      <td>0.0</td>\n",
       "      <td>0.0</td>\n",
       "    </tr>\n",
       "  </tbody>\n",
       "</table>\n",
       "<p>5 rows × 785 columns</p>\n",
       "</div>"
      ],
      "text/plain": [
       "      e    1    2    3    4    5    6    7    8    9  ...  775  776  777  778  \\\n",
       "0  36.0  0.0  0.0  0.0  0.0  0.0  0.0  0.0  0.0  0.0  ...  0.0  0.0  0.0  0.0   \n",
       "1   0.0  0.0  0.0  0.0  0.0  0.0  0.0  0.0  0.0  0.0  ...  0.0  0.0  0.0  0.0   \n",
       "2   3.0  0.0  0.0  0.0  0.0  0.0  0.0  0.0  0.0  0.0  ...  0.0  0.0  0.0  0.0   \n",
       "3  33.0  0.0  0.0  0.0  0.0  0.0  0.0  0.0  0.0  0.0  ...  0.0  0.0  0.0  0.0   \n",
       "4  30.0  0.0  0.0  0.0  0.0  0.0  0.0  0.0  0.0  0.0  ...  0.0  0.0  0.0  0.0   \n",
       "\n",
       "   779  780  781  782  783  784  \n",
       "0  0.0  0.0  0.0  0.0  0.0  0.0  \n",
       "1  0.0  0.0  0.0  0.0  0.0  0.0  \n",
       "2  0.0  0.0  0.0  0.0  0.0  0.0  \n",
       "3  0.0  0.0  0.0  0.0  0.0  0.0  \n",
       "4  0.0  0.0  0.0  0.0  0.0  0.0  \n",
       "\n",
       "[5 rows x 785 columns]"
      ]
     },
     "execution_count": 2,
     "metadata": {},
     "output_type": "execute_result"
    }
   ],
   "source": [
    "zf=zipfile.ZipFile('data_all.zip')\n",
    "number=pd.read_csv(zf.open('data_all.csv'))\n",
    "number.head()"
   ]
  },
  {
   "cell_type": "code",
   "execution_count": 3,
   "metadata": {},
   "outputs": [
    {
     "data": {
      "image/png": "[encoded data removed]",
      "text/plain": [
       "<Figure size 360x360 with 1 Axes>"
      ]
     },
     "metadata": {
      "needs_background": "light"
     },
     "output_type": "display_data"
    }
   ],
   "source": [
    "plt.figure(figsize=(5,5))\n",
    "plt.imshow(number.values[8,1:].reshape(28,28))\n",
    "plt.show();"
   ]
  },
  {
   "cell_type": "code",
   "execution_count": 4,
   "metadata": {},
   "outputs": [
    {
     "name": "stderr",
     "output_type": "stream",
     "text": [
      "Using TensorFlow backend.\n"
     ]
    }
   ],
   "source": [
    "import keras\n",
    "from keras.utils import to_categorical\n",
    "from keras.layers import Dropout, Conv2D, MaxPooling2D\n",
    "from keras.layers.normalization import BatchNormalization\n",
    "from keras.models import Sequential\n",
    "from keras.layers import Dense, Flatten"
   ]
  },
  {
   "cell_type": "markdown",
   "metadata": {},
   "source": [
    "* Now, try to train a classifier model to predict the uppercases. Use every single model you know for classification."
   ]
  },
  {
   "cell_type": "code",
   "execution_count": 5,
   "metadata": {},
   "outputs": [],
   "source": [
    "input_shape=(28, 28, 1)\n",
    "X=np.array(number.iloc[:,1:])\n",
    "y=to_categorical(np.array(number.iloc[:,0]))\n",
    "X_train, X_test, y_train, y_test=train_test_split(X, y, test_size=0.2)\n",
    "X_train=X_train.reshape(X_train.shape[0], 28, 28, 1)\n",
    "X_test=X_test.reshape(X_test.shape[0], 28, 28, 1)\n",
    "X_train=X_train.astype('float')/255\n",
    "X_test=X_test.astype('float')/255"
   ]
  },
  {
   "cell_type": "code",
   "execution_count": 6,
   "metadata": {},
   "outputs": [],
   "source": [
    "batch=256\n",
    "n_clases=62\n",
    "epocas=55"
   ]
  },
  {
   "cell_type": "code",
   "execution_count": 7,
   "metadata": {},
   "outputs": [],
   "source": [
    "modelo=Sequential()\n",
    "\n",
    "modelo.add(Conv2D(32, (3,3), activation='relu', kernel_initializer='he_normal', input_shape=input_shape))\n",
    "modelo.add(MaxPooling2D((2,2)))\n",
    "modelo.add(Dropout(0.25))\n",
    "\n",
    "modelo.add(Conv2D(64, (3,3), activation='relu'))\n",
    "modelo.add(MaxPooling2D((2,2)))\n",
    "modelo.add(Dropout(0.25))\n",
    "\n",
    "modelo.add(Conv2D(128, (3,3), activation='relu'))\n",
    "modelo.add(Dropout(0.4))\n",
    "modelo.add(Flatten())\n",
    "\n",
    "modelo.add(Dense(128, activation='relu'))\n",
    "modelo.add(Dropout(0.3))\n",
    "\n",
    "modelo.add(Dense(n_clases, activation='softmax'))\n",
    "\n",
    "modelo.compile(loss=keras.losses.categorical_crossentropy, optimizer=keras.optimizers.Adam(), metrics=['accuracy'])"
   ]
  },
  {
   "cell_type": "code",
   "execution_count": 8,
   "metadata": {},
   "outputs": [
    {
     "name": "stdout",
     "output_type": "stream",
     "text": [
      "Model: \"sequential_1\"\n",
      "_________________________________________________________________\n",
      "Layer (type)                 Output Shape              Param #   \n",
      "=================================================================\n",
      "conv2d_1 (Conv2D)            (None, 26, 26, 32)        320       \n",
      "_________________________________________________________________\n",
      "max_pooling2d_1 (MaxPooling2 (None, 13, 13, 32)        0         \n",
      "_________________________________________________________________\n",
      "dropout_1 (Dropout)          (None, 13, 13, 32)        0         \n",
      "_________________________________________________________________\n",
      "conv2d_2 (Conv2D)            (None, 11, 11, 64)        18496     \n",
      "_________________________________________________________________\n",
      "max_pooling2d_2 (MaxPooling2 (None, 5, 5, 64)          0         \n",
      "_________________________________________________________________\n",
      "dropout_2 (Dropout)          (None, 5, 5, 64)          0         \n",
      "_________________________________________________________________\n",
      "conv2d_3 (Conv2D)            (None, 3, 3, 128)         73856     \n",
      "_________________________________________________________________\n",
      "dropout_3 (Dropout)          (None, 3, 3, 128)         0         \n",
      "_________________________________________________________________\n",
      "flatten_1 (Flatten)          (None, 1152)              0         \n",
      "_________________________________________________________________\n",
      "dense_1 (Dense)              (None, 128)               147584    \n",
      "_________________________________________________________________\n",
      "dropout_4 (Dropout)          (None, 128)               0         \n",
      "_________________________________________________________________\n",
      "dense_2 (Dense)              (None, 62)                7998      \n",
      "=================================================================\n",
      "Total params: 248,254\n",
      "Trainable params: 248,254\n",
      "Non-trainable params: 0\n",
      "_________________________________________________________________\n"
     ]
    }
   ],
   "source": [
    "modelo.summary()"
   ]
  },
  {
   "cell_type": "code",
   "execution_count": 9,
   "metadata": {},
   "outputs": [
    {
     "name": "stdout",
     "output_type": "stream",
     "text": [
      "Epoch 1/55\n",
      "93057/93057 [==============================] - 99s 1ms/step - loss: 1.5214 - accuracy: 0.5897\n",
      "Epoch 2/55\n",
      "93057/93057 [==============================] - 98s 1ms/step - loss: 0.7496 - accuracy: 0.7592\n",
      "Epoch 3/55\n",
      "93057/93057 [==============================] - 100s 1ms/step - loss: 0.6366 - accuracy: 0.7879\n",
      "Epoch 4/55\n",
      "93057/93057 [==============================] - 98s 1ms/step - loss: 0.5832 - accuracy: 0.8027\n",
      "Epoch 5/55\n",
      "93057/93057 [==============================] - 108s 1ms/step - loss: 0.5545 - accuracy: 0.8113\n",
      "Epoch 6/55\n",
      "93057/93057 [==============================] - 98s 1ms/step - loss: 0.5289 - accuracy: 0.8173\n",
      "Epoch 7/55\n",
      "93057/93057 [==============================] - 118s 1ms/step - loss: 0.5104 - accuracy: 0.8232\n",
      "Epoch 8/55\n",
      "93057/93057 [==============================] - 126s 1ms/step - loss: 0.4970 - accuracy: 0.8261\n",
      "Epoch 9/55\n",
      "93057/93057 [==============================] - 127s 1ms/step - loss: 0.4852 - accuracy: 0.8293\n",
      "Epoch 10/55\n",
      "93057/93057 [==============================] - 108s 1ms/step - loss: 0.4756 - accuracy: 0.8319\n",
      "Epoch 11/55\n",
      "93057/93057 [==============================] - 108s 1ms/step - loss: 0.4700 - accuracy: 0.8326\n",
      "Epoch 12/55\n",
      "93057/93057 [==============================] - 101s 1ms/step - loss: 0.4626 - accuracy: 0.8356\n",
      "Epoch 13/55\n",
      "93057/93057 [==============================] - 99s 1ms/step - loss: 0.4564 - accuracy: 0.8357\n",
      "Epoch 14/55\n",
      "93057/93057 [==============================] - 96s 1ms/step - loss: 0.4498 - accuracy: 0.8374\n",
      "Epoch 15/55\n",
      "93057/93057 [==============================] - 113s 1ms/step - loss: 0.4457 - accuracy: 0.8389\n",
      "Epoch 16/55\n",
      "93057/93057 [==============================] - 116s 1ms/step - loss: 0.4428 - accuracy: 0.8420\n",
      "Epoch 17/55\n",
      "93057/93057 [==============================] - 97s 1ms/step - loss: 0.4398 - accuracy: 0.8406\n",
      "Epoch 18/55\n",
      "93057/93057 [==============================] - 97s 1ms/step - loss: 0.4313 - accuracy: 0.8441\n",
      "Epoch 19/55\n",
      "93057/93057 [==============================] - 100s 1ms/step - loss: 0.4285 - accuracy: 0.8446\n",
      "Epoch 20/55\n",
      "93057/93057 [==============================] - 97s 1ms/step - loss: 0.4281 - accuracy: 0.8447\n",
      "Epoch 21/55\n",
      "93057/93057 [==============================] - 98s 1ms/step - loss: 0.4243 - accuracy: 0.8447\n",
      "Epoch 22/55\n",
      "93057/93057 [==============================] - 97s 1ms/step - loss: 0.4217 - accuracy: 0.8454\n",
      "Epoch 23/55\n",
      "93057/93057 [==============================] - 96s 1ms/step - loss: 0.4182 - accuracy: 0.8466\n",
      "Epoch 24/55\n",
      "93057/93057 [==============================] - 97s 1ms/step - loss: 0.4167 - accuracy: 0.8474\n",
      "Epoch 25/55\n",
      "93057/93057 [==============================] - 96s 1ms/step - loss: 0.4145 - accuracy: 0.8475\n",
      "Epoch 26/55\n",
      "93057/93057 [==============================] - 96s 1ms/step - loss: 0.4113 - accuracy: 0.8479\n",
      "Epoch 27/55\n",
      "93057/93057 [==============================] - 97s 1ms/step - loss: 0.4088 - accuracy: 0.8494\n",
      "Epoch 28/55\n",
      "93057/93057 [==============================] - 96s 1ms/step - loss: 0.4070 - accuracy: 0.8498\n",
      "Epoch 29/55\n",
      "93057/93057 [==============================] - 96s 1ms/step - loss: 0.4057 - accuracy: 0.8491\n",
      "Epoch 30/55\n",
      "93057/93057 [==============================] - 96s 1ms/step - loss: 0.4029 - accuracy: 0.8507\n",
      "Epoch 31/55\n",
      "93057/93057 [==============================] - 96s 1ms/step - loss: 0.4010 - accuracy: 0.8513\n",
      "Epoch 32/55\n",
      "93057/93057 [==============================] - 95s 1ms/step - loss: 0.3997 - accuracy: 0.8516\n",
      "Epoch 33/55\n",
      "93057/93057 [==============================] - 96s 1ms/step - loss: 0.3997 - accuracy: 0.8512\n",
      "Epoch 34/55\n",
      "93057/93057 [==============================] - 99s 1ms/step - loss: 0.3978 - accuracy: 0.8519\n",
      "Epoch 35/55\n",
      "93057/93057 [==============================] - 98s 1ms/step - loss: 0.3964 - accuracy: 0.8520\n",
      "Epoch 36/55\n",
      "93057/93057 [==============================] - 97s 1ms/step - loss: 0.3927 - accuracy: 0.8524\n",
      "Epoch 37/55\n",
      "93057/93057 [==============================] - 98s 1ms/step - loss: 0.3934 - accuracy: 0.8523\n",
      "Epoch 38/55\n",
      "93057/93057 [==============================] - 98s 1ms/step - loss: 0.3930 - accuracy: 0.8540\n",
      "Epoch 39/55\n",
      "93057/93057 [==============================] - 99s 1ms/step - loss: 0.3883 - accuracy: 0.8537\n",
      "Epoch 40/55\n",
      "93057/93057 [==============================] - 97s 1ms/step - loss: 0.3900 - accuracy: 0.8546\n",
      "Epoch 41/55\n",
      "93057/93057 [==============================] - 95s 1ms/step - loss: 0.3870 - accuracy: 0.8541\n",
      "Epoch 42/55\n",
      "93057/93057 [==============================] - 96s 1ms/step - loss: 0.3864 - accuracy: 0.8550\n",
      "Epoch 43/55\n",
      "93057/93057 [==============================] - 96s 1ms/step - loss: 0.3845 - accuracy: 0.8553\n",
      "Epoch 44/55\n",
      "93057/93057 [==============================] - 95s 1ms/step - loss: 0.3854 - accuracy: 0.8559\n",
      "Epoch 45/55\n",
      "93057/93057 [==============================] - 95s 1ms/step - loss: 0.3822 - accuracy: 0.8561\n",
      "Epoch 46/55\n",
      "93057/93057 [==============================] - 96s 1ms/step - loss: 0.3828 - accuracy: 0.8559\n",
      "Epoch 47/55\n",
      "93057/93057 [==============================] - 96s 1ms/step - loss: 0.3811 - accuracy: 0.8549\n",
      "Epoch 48/55\n",
      "93057/93057 [==============================] - 95s 1ms/step - loss: 0.3790 - accuracy: 0.8566\n",
      "Epoch 49/55\n",
      "93057/93057 [==============================] - 95s 1ms/step - loss: 0.3819 - accuracy: 0.8557\n",
      "Epoch 50/55\n",
      "93057/93057 [==============================] - 96s 1ms/step - loss: 0.3799 - accuracy: 0.8572\n",
      "Epoch 51/55\n",
      "93057/93057 [==============================] - 96s 1ms/step - loss: 0.3774 - accuracy: 0.8569\n",
      "Epoch 52/55\n",
      "93057/93057 [==============================] - 95s 1ms/step - loss: 0.3737 - accuracy: 0.8578\n",
      "Epoch 53/55\n",
      "93057/93057 [==============================] - 98s 1ms/step - loss: 0.3758 - accuracy: 0.8576\n",
      "Epoch 54/55\n",
      "93057/93057 [==============================] - 97s 1ms/step - loss: 0.3772 - accuracy: 0.8578\n",
      "Epoch 55/55\n",
      "93057/93057 [==============================] - 97s 1ms/step - loss: 0.3752 - accuracy: 0.8575\n"
     ]
    }
   ],
   "source": [
    "historico=modelo.fit(X_train, y_train, batch_size=batch, epochs=epocas, verbose=1)"
   ]
  },
  {
   "cell_type": "code",
   "execution_count": 10,
   "metadata": {},
   "outputs": [
    {
     "name": "stdout",
     "output_type": "stream",
     "text": [
      "Perdida (testeo) 0.37679643129856644\n",
      "Accuracy (testeo) 0.8621534705162048\n"
     ]
    }
   ],
   "source": [
    "score=modelo.evaluate(X_test, y_test, verbose=0)\n",
    "\n",
    "print ('Perdida (testeo)', score[0])\n",
    "print ('Accuracy (testeo)', score[1])"
   ]
  },
  {
   "cell_type": "code",
   "execution_count": 11,
   "metadata": {},
   "outputs": [
    {
     "data": {
      "image/png": "[encoded data removed]",
      "text/plain": [
       "<Figure size 432x288 with 1 Axes>"
      ]
     },
     "metadata": {
      "needs_background": "light"
     },
     "output_type": "display_data"
    }
   ],
   "source": [
    "acc=historico.history['accuracy']\n",
    "loss=historico.history['loss']\n",
    "epocas=range(len(acc))\n",
    "\n",
    "plt.plot(epocas, acc, 'bo', label='Train Accuracy')\n",
    "plt.plot(epocas, loss, 'ro', label='Train Loss')\n",
    "plt.legend()\n",
    "plt.plot();"
   ]
  },
  {
   "cell_type": "markdown",
   "metadata": {},
   "source": [
    "* Try to do the same thing with lowercases."
   ]
  },
  {
   "cell_type": "code",
   "execution_count": null,
   "metadata": {},
   "outputs": [],
   "source": [
    "# Your code here"
   ]
  },
  {
   "cell_type": "markdown",
   "metadata": {},
   "source": [
    "* Try to do the same thing with numbers."
   ]
  },
  {
   "cell_type": "code",
   "execution_count": null,
   "metadata": {},
   "outputs": [],
   "source": [
    "# Your code here"
   ]
  }
 ],
 "metadata": {
  "kernelspec": {
   "display_name": "Python 3",
   "language": "python",
   "name": "python3"
  },
  "language_info": {
   "codemirror_mode": {
    "name": "ipython",
    "version": 3
   },
   "file_extension": ".py",
   "mimetype": "text/x-python",
   "name": "python",
   "nbconvert_exporter": "python",
   "pygments_lexer": "ipython3",
   "version": "3.7.3"
  }
 },
 "nbformat": 4,
 "nbformat_minor": 2
}
